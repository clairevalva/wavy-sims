{
 "cells": [
  {
   "cell_type": "markdown",
   "metadata": {},
   "source": [
    "last edited by Claire Valva on July 6, 2019\n",
    "\n",
    "# Synthetic Wave Stats\n",
    "\n",
    "This file uses linear rossby wave theory to create physically motivated (yet synthetic) statistics."
   ]
  },
  {
   "cell_type": "code",
   "execution_count": 17,
   "metadata": {},
   "outputs": [],
   "source": [
    "# import packages\n",
    "import numpy as np\n",
    "from scipy.fftpack import fft, ifft, fftfreq, fftshift, ifftshift\n",
    "import matplotlib.pyplot as plt\n",
    "import datetime\n",
    "import matplotlib.cm as cm\n",
    "from math import pi\n",
    "import matplotlib.ticker as tck\n",
    "import pickle\n",
    "import matplotlib.colors as colors\n",
    "from seaborn import cubehelix_palette #for contour plot colors\n",
    "import seaborn as sns\n",
    "import numpy.ma as ma\n",
    "from scipy import optimize\n",
    "from matplotlib import ticker, cm\n",
    "import random\n",
    "import numba"
   ]
  },
  {
   "cell_type": "code",
   "execution_count": 2,
   "metadata": {},
   "outputs": [],
   "source": [
    "#load old spectra\n",
    "file_pickle = open(\"spectra_02_36.0Sarr.pickle\", \"rb\")\n",
    "d2_touse, d2_seasons, d2_averages = pickle.load(file_pickle,  encoding='latin1')"
   ]
  },
  {
   "cell_type": "code",
   "execution_count": 3,
   "metadata": {},
   "outputs": [],
   "source": [
    "def solve_f(X, solution):\n",
    "    #function to solve f coeff equation for trend analysis\n",
    "    x,y = X\n",
    "    f = x*np.exp(1j*y) - solution\n",
    "    return [np.real(f), np.imag(f)] \n",
    "\n",
    "def real_f(X, solution):\n",
    "    #function to wrap solve_f so that it can be used with fsolve\n",
    "    x,y = X\n",
    "    z = [x+0j,y+0j]\n",
    "    actual_f = solve_f(z, solution)\n",
    "    return(actual_f)\n",
    "\n",
    "# solve for phase\n",
    "def root_find(sol):\n",
    "    return optimize.root(real_f, [np.real(sol), 0], args=sol).x"
   ]
  },
  {
   "cell_type": "code",
   "execution_count": 4,
   "metadata": {},
   "outputs": [],
   "source": [
    "## need to solve for amplitude and phase!!\n",
    "touse = d2_touse[2:14][::4]\n",
    "rooted = np.array([[[root_find(entry) for entry in row] for row in season] for season in touse])"
   ]
  },
  {
   "cell_type": "code",
   "execution_count": 5,
   "metadata": {},
   "outputs": [],
   "source": [
    "amps = np.average(rooted[:,:,:,0], axis = 0)"
   ]
  },
  {
   "cell_type": "markdown",
   "metadata": {},
   "source": [
    "### set constants \n",
    "(and check if they are correct)"
   ]
  },
  {
   "cell_type": "code",
   "execution_count": 6,
   "metadata": {},
   "outputs": [
    {
     "name": "stdout",
     "output_type": "stream",
     "text": [
      "k is about 3.9269908169872417e-07\n",
      "l is about 3.4632803675275334e-07\n",
      "Ly is about 18142294.70444291\n"
     ]
    }
   ],
   "source": [
    "# choose sample L_x?\n",
    "samp_k = (2*np.pi) / (16000*1000)\n",
    "print(\"k is about\", samp_k)\n",
    "\n",
    "samp_l = (((2*np.pi) / (12000*1000)) ** 2 - samp_k*samp_k)**.5\n",
    "print(\"l is about\", samp_l)\n",
    "\n",
    "samp_Ly = (2*np.pi) / samp_l\n",
    "print(\"Ly is about\", samp_Ly)"
   ]
  },
  {
   "cell_type": "code",
   "execution_count": 7,
   "metadata": {},
   "outputs": [],
   "source": [
    "# set constants, everything should be in meters,\n",
    "# these are still a little weird, should look into them\n",
    "u = 20 \n",
    "B = 2e-11\n",
    "Lx = 16000*1000\n",
    "Ly = 18000*1000"
   ]
  },
  {
   "cell_type": "markdown",
   "metadata": {},
   "source": [
    "### write some nice functions"
   ]
  },
  {
   "cell_type": "code",
   "execution_count": 8,
   "metadata": {},
   "outputs": [],
   "source": [
    "#write functions to get wavenumbers and frequency\n",
    "def get_k(n):\n",
    "    return (2*np.pi*n)/Lx\n",
    "\n",
    "def get_l(m):\n",
    "    return (np.pi*m)/Ly\n",
    "\n",
    "def get_omega(kn,lm):\n",
    "    # from dispersion relation\n",
    "    k = get_k(kn)\n",
    "    lll = get_l(lm)\n",
    "    uk = u*k\n",
    "    \n",
    "    if k == 0 and lll == 0:\n",
    "        return 0\n",
    "    else:\n",
    "    \n",
    "        frac = (B*k) / (k*k + lll*lll)\n",
    "        \n",
    "        return uk - frac\n"
   ]
  },
  {
   "cell_type": "code",
   "execution_count": 49,
   "metadata": {},
   "outputs": [],
   "source": [
    "#functions that take wavenumbers,frequencies,times to distributions\n",
    "def get_akl(kentry, llen):\n",
    "    kks = np.abs(amps[kentry,1])\n",
    "    ldiv = 1 + llen\n",
    "    return kks / ldiv\n",
    "\n",
    "def psi_comp(omega,k,l,t,x,y,Akl = 1):\n",
    "    #using streamfunction equation\n",
    "    \n",
    "    e = np.exp(1j*(k*x - omega*t))\n",
    "    sly = np.sin(l*y)\n",
    "    \n",
    "    return Akl*e*sly\n",
    "\n",
    "trand = [[random.randint(1,1e15) for n in nrange] for m in mrange]\n",
    "    \n",
    "arruse = np.array([[get_omega(n,m), get_k(n), get_l(m), trand[m][n], get_akl(n,m)]\n",
    "          for n in range(11) for m in range(5)])\n",
    "    \n",
    "def psi(x,y,t):\n",
    "    \n",
    "    arr = psi_comp(arruse[:,0],arruse[:,1],arruse[:,2],t + arruse[:,3],x,y,arruse[:,4])\n",
    "    \n",
    "    return np.real(np.sum(arr))\n",
    "\n",
    "def psi_arr(xlist,ylist,tsteps):\n",
    "    #gets psi for the channel at each timestep\n",
    "    global trand\n",
    "    trand = [[random.randint(1,1e15) for n in nrange] for m in mrange]\n",
    "    \n",
    "    \n",
    "    tot_arr = [[[psi(xlist[xx], ylist[yy], tsteps[tt]) \n",
    "               for xx in range(len(xlist))] \n",
    "               for yy in range(len(ylist))]\n",
    "               for tt in range(len(tsteps))]\n",
    "    \n",
    "    return np.array(tot_arr)"
   ]
  },
  {
   "cell_type": "code",
   "execution_count": 48,
   "metadata": {},
   "outputs": [
    {
     "ename": "ValueError",
     "evalue": "operands could not be broadcast together with shapes (4,) (55,) ",
     "output_type": "error",
     "traceback": [
      "\u001b[0;31m---------------------------------------------------------------------------\u001b[0m",
      "\u001b[0;31mValueError\u001b[0m                                Traceback (most recent call last)",
      "\u001b[0;32m<ipython-input-48-5e96bdb51a11>\u001b[0m in \u001b[0;36m<module>\u001b[0;34m\u001b[0m\n\u001b[0;32m----> 1\u001b[0;31m \u001b[0mpsi\u001b[0m\u001b[0;34m(\u001b[0m\u001b[0mxlist\u001b[0m\u001b[0;34m,\u001b[0m\u001b[0mylist\u001b[0m\u001b[0;34m,\u001b[0m\u001b[0mtsteps\u001b[0m\u001b[0;34m)\u001b[0m\u001b[0;34m\u001b[0m\u001b[0;34m\u001b[0m\u001b[0m\n\u001b[0m",
      "\u001b[0;32m<ipython-input-33-b1d2b715de07>\u001b[0m in \u001b[0;36mpsi\u001b[0;34m(x, y, t)\u001b[0m\n\u001b[1;32m     20\u001b[0m \u001b[0;32mdef\u001b[0m \u001b[0mpsi\u001b[0m\u001b[0;34m(\u001b[0m\u001b[0mx\u001b[0m\u001b[0;34m,\u001b[0m\u001b[0my\u001b[0m\u001b[0;34m,\u001b[0m\u001b[0mt\u001b[0m\u001b[0;34m)\u001b[0m\u001b[0;34m:\u001b[0m\u001b[0;34m\u001b[0m\u001b[0;34m\u001b[0m\u001b[0m\n\u001b[1;32m     21\u001b[0m \u001b[0;34m\u001b[0m\u001b[0m\n\u001b[0;32m---> 22\u001b[0;31m     \u001b[0marr\u001b[0m \u001b[0;34m=\u001b[0m \u001b[0mpsi_comp\u001b[0m\u001b[0;34m(\u001b[0m\u001b[0marruse\u001b[0m\u001b[0;34m[\u001b[0m\u001b[0;34m:\u001b[0m\u001b[0;34m,\u001b[0m\u001b[0;36m0\u001b[0m\u001b[0;34m]\u001b[0m\u001b[0;34m,\u001b[0m\u001b[0marruse\u001b[0m\u001b[0;34m[\u001b[0m\u001b[0;34m:\u001b[0m\u001b[0;34m,\u001b[0m\u001b[0;36m1\u001b[0m\u001b[0;34m]\u001b[0m\u001b[0;34m,\u001b[0m\u001b[0marruse\u001b[0m\u001b[0;34m[\u001b[0m\u001b[0;34m:\u001b[0m\u001b[0;34m,\u001b[0m\u001b[0;36m2\u001b[0m\u001b[0;34m]\u001b[0m\u001b[0;34m,\u001b[0m\u001b[0mt\u001b[0m \u001b[0;34m+\u001b[0m \u001b[0marruse\u001b[0m\u001b[0;34m[\u001b[0m\u001b[0;34m:\u001b[0m\u001b[0;34m,\u001b[0m\u001b[0;36m3\u001b[0m\u001b[0;34m]\u001b[0m\u001b[0;34m,\u001b[0m\u001b[0mx\u001b[0m\u001b[0;34m,\u001b[0m\u001b[0my\u001b[0m\u001b[0;34m,\u001b[0m\u001b[0marruse\u001b[0m\u001b[0;34m[\u001b[0m\u001b[0;34m:\u001b[0m\u001b[0;34m,\u001b[0m\u001b[0;36m4\u001b[0m\u001b[0;34m]\u001b[0m\u001b[0;34m)\u001b[0m\u001b[0;34m\u001b[0m\u001b[0;34m\u001b[0m\u001b[0m\n\u001b[0m\u001b[1;32m     23\u001b[0m \u001b[0;34m\u001b[0m\u001b[0m\n\u001b[1;32m     24\u001b[0m     \u001b[0;32mreturn\u001b[0m \u001b[0mnp\u001b[0m\u001b[0;34m.\u001b[0m\u001b[0mreal\u001b[0m\u001b[0;34m(\u001b[0m\u001b[0mnp\u001b[0m\u001b[0;34m.\u001b[0m\u001b[0msum\u001b[0m\u001b[0;34m(\u001b[0m\u001b[0marr\u001b[0m\u001b[0;34m)\u001b[0m\u001b[0;34m)\u001b[0m\u001b[0;34m\u001b[0m\u001b[0;34m\u001b[0m\u001b[0m\n",
      "\u001b[0;31mValueError\u001b[0m: operands could not be broadcast together with shapes (4,) (55,) "
     ]
    }
   ],
   "source": []
  },
  {
   "cell_type": "code",
   "execution_count": 50,
   "metadata": {},
   "outputs": [],
   "source": [
    "ylist = [1,2,3,4,5]\n",
    "xlist = [10,20,30,40]\n",
    "tsteps = [1,2,3,5]"
   ]
  },
  {
   "cell_type": "code",
   "execution_count": 44,
   "metadata": {},
   "outputs": [],
   "source": [
    "heythere = 3\n",
    "def changeit(n):\n",
    "    global heythere\n",
    "    heythere = n\n",
    "    "
   ]
  },
  {
   "cell_type": "code",
   "execution_count": 45,
   "metadata": {},
   "outputs": [
    {
     "data": {
      "text/plain": [
       "2"
      ]
     },
     "execution_count": 45,
     "metadata": {},
     "output_type": "execute_result"
    }
   ],
   "source": [
    "changeit(2)\n",
    "heythere"
   ]
  },
  {
   "cell_type": "code",
   "execution_count": null,
   "metadata": {},
   "outputs": [],
   "source": [
    "def psi(x,y,t,trand):\n",
    "    \n",
    "    \n",
    "    arr = [psi_comp(get_omega(n,m),get_k(n),get_l(m),t + trand[m][n],x,y,get_akl(n,m)) \n",
    "           for n in range(11) \n",
    "           for m in range(5)]"
   ]
  },
  {
   "cell_type": "markdown",
   "metadata": {},
   "source": [
    "need to figure out some way to generate $A_{kl}$.. what should it be? \n",
    "(Maybe I should match it with observational data?) or at least like scaling\n",
    "should just load up one of the detrended ones and then take some approximate averages?\n",
    "\n",
    "^^ that will work for now with something small for the y changes? and then play to see if I can get the right stuff\n"
   ]
  },
  {
   "cell_type": "markdown",
   "metadata": {},
   "source": [
    "## see what it looks like"
   ]
  },
  {
   "cell_type": "markdown",
   "metadata": {},
   "source": [
    "### get k,l,omega"
   ]
  },
  {
   "cell_type": "code",
   "execution_count": 10,
   "metadata": {},
   "outputs": [],
   "source": [
    "#generate wavenumbers and stuff\n",
    "nrange = range(10 + 1)\n",
    "mrange = range(4 + 1)\n",
    "\n",
    "omega_list = [[get_omega(kn,lm) for kn in nrange] for lm in mrange]"
   ]
  },
  {
   "cell_type": "code",
   "execution_count": 11,
   "metadata": {},
   "outputs": [],
   "source": [
    "# this looks almost correct!!!\n",
    "# need to add stuff for the stationary waves as well however!\n",
    "# but also make A_kl 0,0 a thing!\n",
    "# actually I think this might be ok, but will keep note to check on it laters"
   ]
  },
  {
   "cell_type": "code",
   "execution_count": 12,
   "metadata": {},
   "outputs": [
    {
     "name": "stderr",
     "output_type": "stream",
     "text": [
      "/home/clairev/anaconda3/lib/python3.7/site-packages/ipykernel_launcher.py:5: RuntimeWarning: divide by zero encountered in log\n",
      "  \"\"\"\n",
      "/home/clairev/anaconda3/lib/python3.7/site-packages/ipykernel_launcher.py:5: RuntimeWarning: invalid value encountered in log\n",
      "  \"\"\"\n"
     ]
    },
    {
     "data": {
      "text/plain": [
       "<Figure size 432x288 with 0 Axes>"
      ]
     },
     "metadata": {},
     "output_type": "display_data"
    },
    {
     "data": {
      "image/png": "[encoded data removed]",
      "text/plain": [
       "<Figure size 360x720 with 1 Axes>"
      ]
     },
     "metadata": {
      "needs_background": "light"
     },
     "output_type": "display_data"
    }
   ],
   "source": [
    "plt.clf()\n",
    "plt.figure(figsize=(5, 10))\n",
    "\n",
    "for xx in range(len(omega_list)):\n",
    "    plt.scatter(x = np.multiply(list(nrange),-1), y = np.log(omega_list[xx]), label = list(mrange)[xx], s = 50)\n",
    "    \n",
    "plt.legend(title = \"l\")\n",
    "plt.ylabel(\"frequency\")\n",
    "plt.xlabel(\"k\")\n",
    "plt.show()\n"
   ]
  },
  {
   "cell_type": "code",
   "execution_count": 13,
   "metadata": {},
   "outputs": [
    {
     "data": {
      "text/plain": [
       "<Figure size 432x288 with 0 Axes>"
      ]
     },
     "metadata": {},
     "output_type": "display_data"
    },
    {
     "data": {
      "image/png": "[encoded data removed]",
      "text/plain": [
       "<Figure size 360x360 with 2 Axes>"
      ]
     },
     "metadata": {
      "needs_background": "light"
     },
     "output_type": "display_data"
    }
   ],
   "source": [
    "# plot them\n",
    "plt.clf()\n",
    "plt.figure(figsize=(5, 5))\n",
    "plt.contourf(omega_list)\n",
    "plt.ylabel(\"l\")\n",
    "plt.xlabel(\"k\")\n",
    "plt.colorbar(label = \"frequency\")\n",
    "plt.show()"
   ]
  },
  {
   "cell_type": "code",
   "execution_count": 51,
   "metadata": {},
   "outputs": [],
   "source": [
    "### lets generate about 3 months of data\n",
    "secondsbump = 60*60*12\n",
    "timelist = [secondsbump*j for j in range(120)]\n",
    "initialt_rand = [[random.randint(1,1e15) for n in nrange] for m in mrange]\n",
    "\n",
    "# have resolution be about 5 km by 5 km\n",
    "placesx = [x*5000 for x in range(1000)]\n",
    "placesy = [y*5000 for y in range(-100,100)]"
   ]
  },
  {
   "cell_type": "code",
   "execution_count": 59,
   "metadata": {},
   "outputs": [],
   "source": [
    "first_psi = psi_arr(placesx,placesy,timelist)\n",
    "flt_psi = first_psi.flatten()\n",
    "#should probably rewrite this into something a little speedier and more pythonic"
   ]
  },
  {
   "cell_type": "code",
   "execution_count": 60,
   "metadata": {},
   "outputs": [
    {
     "data": {
      "text/plain": [
       "<Figure size 432x288 with 0 Axes>"
      ]
     },
     "metadata": {},
     "output_type": "display_data"
    },
    {
     "data": {
      "image/png": "[encoded data removed]",
      "text/plain": [
       "<Figure size 720x360 with 1 Axes>"
      ]
     },
     "metadata": {
      "needs_background": "light"
     },
     "output_type": "display_data"
    }
   ],
   "source": [
    "# plot the distribution?\n",
    "# plot them\n",
    "plt.clf()\n",
    "plt.figure(figsize=(10,5))\n",
    "plt.hist(flte, bins = 100)\n",
    "\n",
    "plt.show()"
   ]
  },
  {
   "cell_type": "code",
   "execution_count": 53,
   "metadata": {},
   "outputs": [],
   "source": [
    "#these are too big? should make this smaller and also add the random parts also?\n",
    "#ahhhhhhhhhh"
   ]
  },
  {
   "cell_type": "markdown",
   "metadata": {},
   "source": [
    "### add randomly correlated k and omega to psi"
   ]
  },
  {
   "cell_type": "code",
   "execution_count": 72,
   "metadata": {},
   "outputs": [],
   "source": [
    "# get mean and sd of omega to choose some stuff?\n",
    "omega_mean = np.average(omega_list)\n",
    "omega_sd = np.std(omega_list)\n",
    "\n",
    "samp_omegas = np.reshape(np.random.normal(omega_mean, omega_sd*2, 50), (5,10))\n",
    "samp_ks = np.array(range(11,21))\n",
    "samp_ls = np.array(range(5,10))"
   ]
  },
  {
   "cell_type": "code",
   "execution_count": 77,
   "metadata": {},
   "outputs": [],
   "source": [
    "initialt_rand = [[random.randint(1,1e15) for n in range(25)] for m in range(15)]"
   ]
  },
  {
   "cell_type": "code",
   "execution_count": 79,
   "metadata": {},
   "outputs": [],
   "source": [
    "arruse_second = [[samp_omegas[lt - 5][kt - 11], kt, lt, initialt_rand[lt][kt], get_akl(lt,kt)]\n",
    "                 for lt in samp_ls for kt in samp_ks]"
   ]
  },
  {
   "cell_type": "code",
   "execution_count": 81,
   "metadata": {},
   "outputs": [],
   "source": [
    "concat_arr = np.concatenate((arruse,arruse_second))"
   ]
  },
  {
   "cell_type": "code",
   "execution_count": 83,
   "metadata": {},
   "outputs": [],
   "source": [
    "def second_psi(x,y,t):\n",
    "    \n",
    "    arr = psi_comp(concat_arr[:,0],concat_arr[:,1],\n",
    "                   concat_arr[:,2],t + concat_arr[:,3],\n",
    "                   x,y,concat_arr[:,4])\n",
    "    \n",
    "    return np.real(np.sum(arr))\n",
    "\n",
    "def second_psi_arr(xlist,ylist,tsteps):\n",
    "    #gets psi for the channel at each timestep\n",
    "    global trand\n",
    "    trand = [[random.randint(1,1e15) for n in nrange] for m in mrange]\n",
    "    \n",
    "    \n",
    "    tot_arr = [[[second_psi(xlist[xx], ylist[yy], tsteps[tt]) \n",
    "               for xx in range(len(xlist))] \n",
    "               for yy in range(len(ylist))]\n",
    "               for tt in range(len(tsteps))]\n",
    "    \n",
    "    return np.array(tot_arr)"
   ]
  },
  {
   "cell_type": "code",
   "execution_count": null,
   "metadata": {},
   "outputs": [],
   "source": []
  }
 ],
 "metadata": {
  "kernelspec": {
   "display_name": "Python 3",
   "language": "python",
   "name": "python3"
  },
  "language_info": {
   "codemirror_mode": {
    "name": "ipython",
    "version": 3
   },
   "file_extension": ".py",
   "mimetype": "text/x-python",
   "name": "python",
   "nbconvert_exporter": "python",
   "pygments_lexer": "ipython3",
   "version": "3.7.3"
  }
 },
 "nbformat": 4,
 "nbformat_minor": 2
}
