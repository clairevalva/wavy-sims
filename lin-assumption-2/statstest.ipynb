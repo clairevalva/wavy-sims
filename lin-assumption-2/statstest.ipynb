{
 "cells": [
  {
   "cell_type": "markdown",
   "metadata": {},
   "source": [
    "last edited on May 24, 2019, updated and cleaned up on June 24, 2019\n",
    "\n",
    "# Get Summary Stats of Simulations\n",
    "this gets summary stats of simulations, csv is also saved to personal computer, a little messy but does work!"
   ]
  },
  {
   "cell_type": "code",
   "execution_count": 1,
   "metadata": {
    "collapsed": true
   },
   "outputs": [],
   "source": [
    "#!/bin/env python\n",
    "\n",
    "#SBATCH --job-name=stat_full\n",
    "#SBATCH --output=statplt_%j.out\n",
    "#SBATCH --time=24:05:00\n",
    "#SBATCH --partition=bigmem2\n",
    "#SBATCH --nodes=1\n",
    "#SBATCH --mem=0\n",
    "# #SBATCH --exclusive\n",
    "# this one did work\n",
    "\n",
    "# import packages\n",
    "import numpy as np\n",
    "from scipy.signal import get_window, csd\n",
    "from scipy.signal.windows import hann, hanning, nuttall, flattop\n",
    "from scipy.fftpack import fft, ifft, fftfreq, fftshift, ifftshift\n",
    "\n",
    "import matplotlib.pyplot as plt\n",
    "\n",
    "import scipy.integrate as sciint\n",
    "import pandas as pd\n",
    "import datetime\n",
    "import matplotlib.cm as cm\n",
    "from math import pi\n",
    "import matplotlib.ticker as tck\n",
    "import datetime\n",
    "from sympy import solve, Poly, Eq, Function, exp, re, im\n",
    "from netCDF4 import Dataset, num2date # This is to read .nc files and time array\n",
    "from scipy.optimize import fsolve\n",
    "from decimal import Decimal\n",
    "import pickle\n",
    "import multiprocessing as mp\n",
    "from joblib import Parallel, delayed\n",
    "import matplotlib.colors as colors\n",
    "from seaborn import cubehelix_palette #for contour plot colors\n",
    "import seaborn as sns\n",
    "from decimal import Decimal\n",
    "import numpy.ma as ma\n",
    "from scipy.stats import skew\n",
    "\n",
    "\n",
    "# get file names and collect sims\n",
    "from os import walk\n",
    "import pickle\n",
    "\n",
    "flabs = []\n",
    "for (dirpath, dirnames, filenames) in walk('gphfiles/'):\n",
    "    flabs.extend(filenames)\n",
    "    break\n",
    "\n",
    "f = []\n",
    "for (dirpath, dirnames, filenames) in walk('/scratch/midway2/clairev/from_home/01_full_sims/'):\n",
    "    f.extend(filenames)\n",
    "    break\n",
    "    \n",
    "jjj = 0\n"
   ]
  },
  {
   "cell_type": "code",
   "execution_count": 2,
   "metadata": {
    "collapsed": true
   },
   "outputs": [],
   "source": [
    "f = []\n",
    "for (dirpath, dirnames, filenames) in walk('scratch-midway2/enso_sims/'):\n",
    "    f.extend(filenames)\n",
    "    break"
   ]
  },
  {
   "cell_type": "code",
   "execution_count": 3,
   "metadata": {
    "collapsed": true
   },
   "outputs": [],
   "source": [
    "seasons = [\"winter\", \"spring\", \"summer\", \"fall\"]\n",
    "ens = [\"nino\", \"nina\", \"neutral\"]\n",
    "d2_names = [enso + \" \" + part for part in seasons for enso in ens]"
   ]
  },
  {
   "cell_type": "markdown",
   "metadata": {
    "collapsed": true
   },
   "source": [
    "for wantfile in range(len(flabs)):\n",
    "    index = str(flabs[wantfile][-10:-5])\n",
    "    \n",
    "    # get detrend \n",
    "    ring = 'detrended/new_detrend_' + str(index) + '.h5'\n",
    "    \n",
    "    data_store = pd.HDFStore(ring)\n",
    "    \n",
    "    # Retrieve data using key\n",
    "    untrend_df = data_store['untrend_geopot']\n",
    "    data_store.close()\n",
    "\n",
    "    seasons = [\"winter\",\"spring\",\"summer\",\"fall\"]\n",
    "    # write flatten function\n",
    "    \n",
    "    untrend_df[\"seasonmean\"] = untrend_df.groupby(by=['year','season'])['adj_z'].transform('mean')\n",
    "    untrend_df[\"diff_mean\"] = untrend_df[\"adj_z\"] - untrend_df[\"seasonmean\"]\n",
    "    "
   ]
  },
  {
   "cell_type": "code",
   "execution_count": 8,
   "metadata": {
    "collapsed": false
   },
   "outputs": [
    {
     "data": {
      "text/plain": [
       "['58.5Nnino winter',\n",
       " 509.8705139015072,\n",
       " (-0.15950769881999285-0.016854110781558046j)]"
      ]
     },
     "execution_count": 8,
     "metadata": {},
     "output_type": "execute_result"
    }
   ],
   "source": [
    "storage_list[0]"
   ]
  },
  {
   "cell_type": "code",
   "execution_count": 9,
   "metadata": {
    "collapsed": true
   },
   "outputs": [
    {
     "name": "stdout",
     "output_type": "stream",
     "text": [
      "01_enso_31.5S96\n",
      "01_enso_31.5S657\n",
      "01_enso_31.5S995\n",
      "01_enso_31.5S73\n",
      "01_enso_31.5S608\n",
      "01_enso_31.5S194\n",
      "01_enso_31.5S542\n",
      "01_enso_31.5S34\n",
      "01_enso_31.5S465\n",
      "01_enso_31.5S156\n",
      "01_enso_45.0N629\n",
      "01_enso_45.0N191\n",
      "01_enso_45.0N192\n",
      "01_enso_45.0N99\n",
      "01_enso_45.0N977\n",
      "01_enso_45.0N691\n",
      "01_enso_45.0N931\n",
      "01_enso_45.0N222\n",
      "01_enso_45.0N219\n",
      "01_enso_45.0N538\n",
      "01_enso_45.0N498\n",
      "01_enso_45.0S527\n",
      "01_enso_45.0S396\n",
      "01_enso_45.0S405\n",
      "01_enso_45.0S626\n",
      "01_enso_45.0S48\n",
      "01_enso_45.0S305\n",
      "01_enso_45.0S235\n",
      "01_enso_45.0S350\n",
      "01_enso_45.0S784\n",
      "01_enso_45.0S120\n",
      "01_enso_45.0S537\n",
      "01_enso_58.5S646\n",
      "01_enso_58.5S609\n",
      "01_enso_58.5S631\n",
      "01_enso_58.5S579\n",
      "01_enso_58.5S849\n",
      "01_enso_58.5S878\n",
      "01_enso_58.5S577\n",
      "01_enso_58.5S888\n",
      "01_enso_58.5S664\n",
      "01_enso_58.5S242\n",
      "01_enso_58.5S979\n",
      "01_enso_54.0S193\n",
      "01_enso_54.0S392\n",
      "01_enso_54.0S723\n",
      "01_enso_54.0S917\n",
      "01_enso_54.0S610\n",
      "01_enso_54.0S905\n",
      "01_enso_54.0S339\n",
      "01_enso_54.0S428\n",
      "01_enso_54.0S481\n",
      "01_enso_54.0S546\n",
      "01_enso_54.0S399\n",
      "01_enso_49.5S432\n",
      "01_enso_49.5S506\n",
      "01_enso_49.5S123\n",
      "01_enso_49.5S605\n",
      "01_enso_49.5S144\n",
      "01_enso_49.5S673\n",
      "01_enso_49.5S696\n",
      "01_enso_49.5S478\n",
      "01_enso_49.5S662\n",
      "01_enso_49.5S178\n",
      "01_enso_49.5S898\n",
      "01_enso_36.0S988\n",
      "01_enso_36.0S95\n",
      "01_enso_36.0S330\n",
      "01_enso_36.0S66\n",
      "01_enso_36.0S909\n",
      "01_enso_36.0S471\n",
      "01_enso_36.0S687\n",
      "01_enso_36.0S257\n",
      "01_enso_36.0S474\n",
      "01_enso_36.0S356\n",
      "01_enso_36.0S563\n",
      "01_enso_54.0N518\n",
      "01_enso_54.0N773\n",
      "01_enso_54.0N929\n",
      "01_enso_54.0N368\n",
      "01_enso_54.0N818\n",
      "01_enso_54.0N692\n",
      "01_enso_54.0N979\n",
      "01_enso_54.0N35\n",
      "01_enso_54.0N101\n",
      "01_enso_54.0N672\n",
      "01_enso_54.0N75\n",
      "01_enso_40.5S525\n",
      "01_enso_40.5S800\n",
      "01_enso_40.5S631\n",
      "01_enso_40.5S316\n",
      "01_enso_40.5S448\n",
      "01_enso_40.5S763\n",
      "01_enso_40.5S615\n",
      "01_enso_40.5S272\n",
      "01_enso_40.5S849\n",
      "01_enso_40.5S666\n",
      "01_enso_40.5S157\n",
      "01_enso_36.0N467\n"
     ]
    },
    {
     "ename": "ValueError",
     "evalue": "buffer size does not match array size",
     "output_type": "error",
     "traceback": [
      "\u001b[0;31m---------------------------------------------------------------------------\u001b[0m",
      "\u001b[0;31mValueError\u001b[0m                                Traceback (most recent call last)",
      "\u001b[0;32m<ipython-input-9-e9ca18bcf6c0>\u001b[0m in \u001b[0;36m<module>\u001b[0;34m()\u001b[0m\n\u001b[1;32m      8\u001b[0m             \u001b[0;32mprint\u001b[0m\u001b[0;34m(\u001b[0m\u001b[0mname\u001b[0m\u001b[0;34m)\u001b[0m\u001b[0;34m\u001b[0m\u001b[0m\n\u001b[1;32m      9\u001b[0m             \u001b[0mfile_pickle\u001b[0m \u001b[0;34m=\u001b[0m \u001b[0mopen\u001b[0m\u001b[0;34m(\u001b[0m\u001b[0;34m\"scratch-midway2/enso_sims/\"\u001b[0m \u001b[0;34m+\u001b[0m \u001b[0mname\u001b[0m\u001b[0;34m,\u001b[0m \u001b[0;34m\"rb\"\u001b[0m\u001b[0;34m)\u001b[0m\u001b[0;34m\u001b[0m\u001b[0m\n\u001b[0;32m---> 10\u001b[0;31m             \u001b[0msims1\u001b[0m \u001b[0;34m=\u001b[0m \u001b[0mpickle\u001b[0m\u001b[0;34m.\u001b[0m\u001b[0mload\u001b[0m\u001b[0;34m(\u001b[0m\u001b[0mfile_pickle\u001b[0m\u001b[0;34m)\u001b[0m\u001b[0;34m\u001b[0m\u001b[0m\n\u001b[0m\u001b[1;32m     11\u001b[0m \u001b[0;34m\u001b[0m\u001b[0m\n\u001b[1;32m     12\u001b[0m             \u001b[0msims\u001b[0m\u001b[0;34m.\u001b[0m\u001b[0mappend\u001b[0m\u001b[0;34m(\u001b[0m\u001b[0msims1\u001b[0m\u001b[0;34m)\u001b[0m\u001b[0;34m\u001b[0m\u001b[0m\n",
      "\u001b[0;32m/software/python-2.7.12-el7-x86_64/lib/python2.7/pickle.pyc\u001b[0m in \u001b[0;36mload\u001b[0;34m(file)\u001b[0m\n\u001b[1;32m   1382\u001b[0m \u001b[0;34m\u001b[0m\u001b[0m\n\u001b[1;32m   1383\u001b[0m \u001b[0;32mdef\u001b[0m \u001b[0mload\u001b[0m\u001b[0;34m(\u001b[0m\u001b[0mfile\u001b[0m\u001b[0;34m)\u001b[0m\u001b[0;34m:\u001b[0m\u001b[0;34m\u001b[0m\u001b[0m\n\u001b[0;32m-> 1384\u001b[0;31m     \u001b[0;32mreturn\u001b[0m \u001b[0mUnpickler\u001b[0m\u001b[0;34m(\u001b[0m\u001b[0mfile\u001b[0m\u001b[0;34m)\u001b[0m\u001b[0;34m.\u001b[0m\u001b[0mload\u001b[0m\u001b[0;34m(\u001b[0m\u001b[0;34m)\u001b[0m\u001b[0;34m\u001b[0m\u001b[0m\n\u001b[0m\u001b[1;32m   1385\u001b[0m \u001b[0;34m\u001b[0m\u001b[0m\n\u001b[1;32m   1386\u001b[0m \u001b[0;32mdef\u001b[0m \u001b[0mloads\u001b[0m\u001b[0;34m(\u001b[0m\u001b[0mstr\u001b[0m\u001b[0;34m)\u001b[0m\u001b[0;34m:\u001b[0m\u001b[0;34m\u001b[0m\u001b[0m\n",
      "\u001b[0;32m/software/python-2.7.12-el7-x86_64/lib/python2.7/pickle.pyc\u001b[0m in \u001b[0;36mload\u001b[0;34m(self)\u001b[0m\n\u001b[1;32m    862\u001b[0m             \u001b[0;32mwhile\u001b[0m \u001b[0;36m1\u001b[0m\u001b[0;34m:\u001b[0m\u001b[0;34m\u001b[0m\u001b[0m\n\u001b[1;32m    863\u001b[0m                 \u001b[0mkey\u001b[0m \u001b[0;34m=\u001b[0m \u001b[0mread\u001b[0m\u001b[0;34m(\u001b[0m\u001b[0;36m1\u001b[0m\u001b[0;34m)\u001b[0m\u001b[0;34m\u001b[0m\u001b[0m\n\u001b[0;32m--> 864\u001b[0;31m                 \u001b[0mdispatch\u001b[0m\u001b[0;34m[\u001b[0m\u001b[0mkey\u001b[0m\u001b[0;34m]\u001b[0m\u001b[0;34m(\u001b[0m\u001b[0mself\u001b[0m\u001b[0;34m)\u001b[0m\u001b[0;34m\u001b[0m\u001b[0m\n\u001b[0m\u001b[1;32m    865\u001b[0m         \u001b[0;32mexcept\u001b[0m \u001b[0m_Stop\u001b[0m\u001b[0;34m,\u001b[0m \u001b[0mstopinst\u001b[0m\u001b[0;34m:\u001b[0m\u001b[0;34m\u001b[0m\u001b[0m\n\u001b[1;32m    866\u001b[0m             \u001b[0;32mreturn\u001b[0m \u001b[0mstopinst\u001b[0m\u001b[0;34m.\u001b[0m\u001b[0mvalue\u001b[0m\u001b[0;34m\u001b[0m\u001b[0m\n",
      "\u001b[0;32m/software/python-2.7.12-el7-x86_64/lib/python2.7/pickle.pyc\u001b[0m in \u001b[0;36mload_build\u001b[0;34m(self)\u001b[0m\n\u001b[1;32m   1221\u001b[0m         \u001b[0msetstate\u001b[0m \u001b[0;34m=\u001b[0m \u001b[0mgetattr\u001b[0m\u001b[0;34m(\u001b[0m\u001b[0minst\u001b[0m\u001b[0;34m,\u001b[0m \u001b[0;34m\"__setstate__\"\u001b[0m\u001b[0;34m,\u001b[0m \u001b[0mNone\u001b[0m\u001b[0;34m)\u001b[0m\u001b[0;34m\u001b[0m\u001b[0m\n\u001b[1;32m   1222\u001b[0m         \u001b[0;32mif\u001b[0m \u001b[0msetstate\u001b[0m\u001b[0;34m:\u001b[0m\u001b[0;34m\u001b[0m\u001b[0m\n\u001b[0;32m-> 1223\u001b[0;31m             \u001b[0msetstate\u001b[0m\u001b[0;34m(\u001b[0m\u001b[0mstate\u001b[0m\u001b[0;34m)\u001b[0m\u001b[0;34m\u001b[0m\u001b[0m\n\u001b[0m\u001b[1;32m   1224\u001b[0m             \u001b[0;32mreturn\u001b[0m\u001b[0;34m\u001b[0m\u001b[0m\n\u001b[1;32m   1225\u001b[0m         \u001b[0mslotstate\u001b[0m \u001b[0;34m=\u001b[0m \u001b[0mNone\u001b[0m\u001b[0;34m\u001b[0m\u001b[0m\n",
      "\u001b[0;31mValueError\u001b[0m: buffer size does not match array size"
     ]
    }
   ],
   "source": [
    "\n",
    "for wantfile in range(1,len(flabs)):\n",
    "    index = str(flabs[wantfile][-10:-5])\n",
    "# go through sims to get the correct ones\n",
    "    sims = []\n",
    "    for name in f:\n",
    "        if name[8:13] == flabs[wantfile][-10:-5]:\n",
    "            print(name)\n",
    "            file_pickle = open(\"scratch-midway2/enso_sims/\" + name, \"rb\")\n",
    "            sims1 = pickle.load(file_pickle)\n",
    "            \n",
    "            sims.append(sims1)\n",
    "            \n",
    "    flatten = lambda l: [item for sublist in l for item in sublist]\n",
    "    #flatten each \n",
    "    flat_sims = [[flatten(entry) for entry in sublist] for sublist in sims]       \n",
    "    \n",
    "    for j in range(12):\n",
    "        flat_all = []\n",
    "        for k in range(len(flat_sims)):\n",
    "            flat_tested = flat_sims[k]\n",
    "            flat_all.append(flat_tested[j])\n",
    "    \n",
    "        flat_all = flatten(flat_all)\n",
    "        \n",
    "        act_var = np.var(flat_all)\n",
    "        act_skew = skew(flat_all, axis = None)\n",
    "        \n",
    "        storage_list.append([str(index) + str(d2_names[j]), act_var, act_skew])\n",
    "        "
   ]
  },
  {
   "cell_type": "code",
   "execution_count": 11,
   "metadata": {
    "collapsed": false
   },
   "outputs": [],
   "source": [
    "import csv\n",
    "\n",
    "with open('enso_stat', 'wb') as myfile:\n",
    "    wr = csv.writer(myfile, quoting=csv.QUOTE_ALL)\n",
    "    wr.writerow(storage_list)\n"
   ]
  },
  {
   "cell_type": "code",
   "execution_count": 21,
   "metadata": {
    "collapsed": false
   },
   "outputs": [],
   "source": [
    "skew_list = np.real([entry[2] for entry in storage_list])\n",
    "var_list = np.real([entry[1] for entry in storage_list])\n",
    "name_list = np.real([entry[0] for entry in storage_list])"
   ]
  },
  {
   "cell_type": "code",
   "execution_count": 26,
   "metadata": {
    "collapsed": false
   },
   "outputs": [],
   "source": [
    "todo = {\"name\":name_list, \"var\": var_list, \"skew\":skew_list}"
   ]
  },
  {
   "cell_type": "code",
   "execution_count": 29,
   "metadata": {
    "collapsed": false
   },
   "outputs": [],
   "source": [
    "import pandas\n",
    "df = pandas.DataFrame(todo)\n",
    "df.to_csv(\"enso_stat_2.csv\", sep=',',index=False)"
   ]
  },
  {
   "cell_type": "code",
   "execution_count": 28,
   "metadata": {
    "collapsed": false
   },
   "outputs": [
    {
     "data": {
      "text/html": [
       "<div>\n",
       "<style scoped>\n",
       "    .dataframe tbody tr th:only-of-type {\n",
       "        vertical-align: middle;\n",
       "    }\n",
       "\n",
       "    .dataframe tbody tr th {\n",
       "        vertical-align: top;\n",
       "    }\n",
       "\n",
       "    .dataframe thead th {\n",
       "        text-align: right;\n",
       "    }\n",
       "</style>\n",
       "<table border=\"1\" class=\"dataframe\">\n",
       "  <thead>\n",
       "    <tr style=\"text-align: right;\">\n",
       "      <th></th>\n",
       "      <th>name</th>\n",
       "      <th>skew</th>\n",
       "      <th>var</th>\n",
       "    </tr>\n",
       "  </thead>\n",
       "  <tbody>\n",
       "    <tr>\n",
       "      <th>0</th>\n",
       "      <td>58.5Nnino winter</td>\n",
       "      <td>-0.159508</td>\n",
       "      <td>509.870514</td>\n",
       "    </tr>\n",
       "    <tr>\n",
       "      <th>1</th>\n",
       "      <td>58.5Nnina winter</td>\n",
       "      <td>-0.429642</td>\n",
       "      <td>502.625568</td>\n",
       "    </tr>\n",
       "    <tr>\n",
       "      <th>2</th>\n",
       "      <td>58.5Nneutral winter</td>\n",
       "      <td>-0.321109</td>\n",
       "      <td>542.798842</td>\n",
       "    </tr>\n",
       "    <tr>\n",
       "      <th>3</th>\n",
       "      <td>58.5Nnino spring</td>\n",
       "      <td>-1.050231</td>\n",
       "      <td>384.394635</td>\n",
       "    </tr>\n",
       "    <tr>\n",
       "      <th>4</th>\n",
       "      <td>58.5Nnina spring</td>\n",
       "      <td>0.290616</td>\n",
       "      <td>367.455810</td>\n",
       "    </tr>\n",
       "    <tr>\n",
       "      <th>5</th>\n",
       "      <td>58.5Nneutral spring</td>\n",
       "      <td>0.805822</td>\n",
       "      <td>352.839923</td>\n",
       "    </tr>\n",
       "    <tr>\n",
       "      <th>6</th>\n",
       "      <td>58.5Nnino summer</td>\n",
       "      <td>1.522569</td>\n",
       "      <td>234.396411</td>\n",
       "    </tr>\n",
       "    <tr>\n",
       "      <th>7</th>\n",
       "      <td>58.5Nnina summer</td>\n",
       "      <td>-5.972210</td>\n",
       "      <td>230.384690</td>\n",
       "    </tr>\n",
       "    <tr>\n",
       "      <th>8</th>\n",
       "      <td>58.5Nneutral summer</td>\n",
       "      <td>1.357973</td>\n",
       "      <td>217.620277</td>\n",
       "    </tr>\n",
       "    <tr>\n",
       "      <th>9</th>\n",
       "      <td>58.5Nnino fall</td>\n",
       "      <td>0.321617</td>\n",
       "      <td>379.411534</td>\n",
       "    </tr>\n",
       "    <tr>\n",
       "      <th>10</th>\n",
       "      <td>58.5Nnina fall</td>\n",
       "      <td>0.175340</td>\n",
       "      <td>383.907261</td>\n",
       "    </tr>\n",
       "    <tr>\n",
       "      <th>11</th>\n",
       "      <td>58.5Nneutral fall</td>\n",
       "      <td>0.182353</td>\n",
       "      <td>388.583098</td>\n",
       "    </tr>\n",
       "    <tr>\n",
       "      <th>12</th>\n",
       "      <td>31.5Snino winter</td>\n",
       "      <td>0.027010</td>\n",
       "      <td>58.041642</td>\n",
       "    </tr>\n",
       "    <tr>\n",
       "      <th>13</th>\n",
       "      <td>31.5Snina winter</td>\n",
       "      <td>0.109466</td>\n",
       "      <td>55.632681</td>\n",
       "    </tr>\n",
       "    <tr>\n",
       "      <th>14</th>\n",
       "      <td>31.5Sneutral winter</td>\n",
       "      <td>-0.275419</td>\n",
       "      <td>57.901194</td>\n",
       "    </tr>\n",
       "    <tr>\n",
       "      <th>15</th>\n",
       "      <td>31.5Snino spring</td>\n",
       "      <td>0.609615</td>\n",
       "      <td>87.539932</td>\n",
       "    </tr>\n",
       "    <tr>\n",
       "      <th>16</th>\n",
       "      <td>31.5Snina spring</td>\n",
       "      <td>-2.630782</td>\n",
       "      <td>74.322073</td>\n",
       "    </tr>\n",
       "    <tr>\n",
       "      <th>17</th>\n",
       "      <td>31.5Sneutral spring</td>\n",
       "      <td>0.033434</td>\n",
       "      <td>85.978238</td>\n",
       "    </tr>\n",
       "    <tr>\n",
       "      <th>18</th>\n",
       "      <td>31.5Snino summer</td>\n",
       "      <td>-0.437406</td>\n",
       "      <td>147.481417</td>\n",
       "    </tr>\n",
       "    <tr>\n",
       "      <th>19</th>\n",
       "      <td>31.5Snina summer</td>\n",
       "      <td>-0.539583</td>\n",
       "      <td>138.915356</td>\n",
       "    </tr>\n",
       "    <tr>\n",
       "      <th>20</th>\n",
       "      <td>31.5Sneutral summer</td>\n",
       "      <td>-0.492165</td>\n",
       "      <td>151.736997</td>\n",
       "    </tr>\n",
       "    <tr>\n",
       "      <th>21</th>\n",
       "      <td>31.5Snino fall</td>\n",
       "      <td>-0.190992</td>\n",
       "      <td>114.306934</td>\n",
       "    </tr>\n",
       "    <tr>\n",
       "      <th>22</th>\n",
       "      <td>31.5Snina fall</td>\n",
       "      <td>-0.216047</td>\n",
       "      <td>99.021668</td>\n",
       "    </tr>\n",
       "    <tr>\n",
       "      <th>23</th>\n",
       "      <td>31.5Sneutral fall</td>\n",
       "      <td>-0.186384</td>\n",
       "      <td>111.372161</td>\n",
       "    </tr>\n",
       "    <tr>\n",
       "      <th>24</th>\n",
       "      <td>45.0Nnino winter</td>\n",
       "      <td>-0.232637</td>\n",
       "      <td>499.747142</td>\n",
       "    </tr>\n",
       "    <tr>\n",
       "      <th>25</th>\n",
       "      <td>45.0Nnina winter</td>\n",
       "      <td>0.150164</td>\n",
       "      <td>552.809552</td>\n",
       "    </tr>\n",
       "    <tr>\n",
       "      <th>26</th>\n",
       "      <td>45.0Nneutral winter</td>\n",
       "      <td>-0.073994</td>\n",
       "      <td>499.719317</td>\n",
       "    </tr>\n",
       "    <tr>\n",
       "      <th>27</th>\n",
       "      <td>45.0Nnino spring</td>\n",
       "      <td>-0.490483</td>\n",
       "      <td>309.758611</td>\n",
       "    </tr>\n",
       "    <tr>\n",
       "      <th>28</th>\n",
       "      <td>45.0Nnina spring</td>\n",
       "      <td>-1.143344</td>\n",
       "      <td>304.283364</td>\n",
       "    </tr>\n",
       "    <tr>\n",
       "      <th>29</th>\n",
       "      <td>45.0Nneutral spring</td>\n",
       "      <td>-0.450829</td>\n",
       "      <td>313.763816</td>\n",
       "    </tr>\n",
       "    <tr>\n",
       "      <th>...</th>\n",
       "      <td>...</td>\n",
       "      <td>...</td>\n",
       "      <td>...</td>\n",
       "    </tr>\n",
       "    <tr>\n",
       "      <th>90</th>\n",
       "      <td>36.0Snino summer</td>\n",
       "      <td>-0.627353</td>\n",
       "      <td>225.510244</td>\n",
       "    </tr>\n",
       "    <tr>\n",
       "      <th>91</th>\n",
       "      <td>36.0Snina summer</td>\n",
       "      <td>-1.102747</td>\n",
       "      <td>207.091323</td>\n",
       "    </tr>\n",
       "    <tr>\n",
       "      <th>92</th>\n",
       "      <td>36.0Sneutral summer</td>\n",
       "      <td>-0.383494</td>\n",
       "      <td>214.111217</td>\n",
       "    </tr>\n",
       "    <tr>\n",
       "      <th>93</th>\n",
       "      <td>36.0Snino fall</td>\n",
       "      <td>-0.144428</td>\n",
       "      <td>165.460370</td>\n",
       "    </tr>\n",
       "    <tr>\n",
       "      <th>94</th>\n",
       "      <td>36.0Snina fall</td>\n",
       "      <td>0.289449</td>\n",
       "      <td>160.876670</td>\n",
       "    </tr>\n",
       "    <tr>\n",
       "      <th>95</th>\n",
       "      <td>36.0Sneutral fall</td>\n",
       "      <td>0.066111</td>\n",
       "      <td>165.697685</td>\n",
       "    </tr>\n",
       "    <tr>\n",
       "      <th>96</th>\n",
       "      <td>54.0Nnino winter</td>\n",
       "      <td>0.205682</td>\n",
       "      <td>606.117537</td>\n",
       "    </tr>\n",
       "    <tr>\n",
       "      <th>97</th>\n",
       "      <td>54.0Nnina winter</td>\n",
       "      <td>0.071486</td>\n",
       "      <td>538.887158</td>\n",
       "    </tr>\n",
       "    <tr>\n",
       "      <th>98</th>\n",
       "      <td>54.0Nneutral winter</td>\n",
       "      <td>-0.106673</td>\n",
       "      <td>563.885113</td>\n",
       "    </tr>\n",
       "    <tr>\n",
       "      <th>99</th>\n",
       "      <td>54.0Nnino spring</td>\n",
       "      <td>-0.109757</td>\n",
       "      <td>390.306675</td>\n",
       "    </tr>\n",
       "    <tr>\n",
       "      <th>100</th>\n",
       "      <td>54.0Nnina spring</td>\n",
       "      <td>0.200169</td>\n",
       "      <td>374.811904</td>\n",
       "    </tr>\n",
       "    <tr>\n",
       "      <th>101</th>\n",
       "      <td>54.0Nneutral spring</td>\n",
       "      <td>0.697484</td>\n",
       "      <td>356.445052</td>\n",
       "    </tr>\n",
       "    <tr>\n",
       "      <th>102</th>\n",
       "      <td>54.0Nnino summer</td>\n",
       "      <td>-1.497659</td>\n",
       "      <td>217.906911</td>\n",
       "    </tr>\n",
       "    <tr>\n",
       "      <th>103</th>\n",
       "      <td>54.0Nnina summer</td>\n",
       "      <td>0.145333</td>\n",
       "      <td>207.391855</td>\n",
       "    </tr>\n",
       "    <tr>\n",
       "      <th>104</th>\n",
       "      <td>54.0Nneutral summer</td>\n",
       "      <td>0.270825</td>\n",
       "      <td>203.926838</td>\n",
       "    </tr>\n",
       "    <tr>\n",
       "      <th>105</th>\n",
       "      <td>54.0Nnino fall</td>\n",
       "      <td>-0.164452</td>\n",
       "      <td>387.115716</td>\n",
       "    </tr>\n",
       "    <tr>\n",
       "      <th>106</th>\n",
       "      <td>54.0Nnina fall</td>\n",
       "      <td>0.085704</td>\n",
       "      <td>377.418075</td>\n",
       "    </tr>\n",
       "    <tr>\n",
       "      <th>107</th>\n",
       "      <td>54.0Nneutral fall</td>\n",
       "      <td>0.588370</td>\n",
       "      <td>401.328652</td>\n",
       "    </tr>\n",
       "    <tr>\n",
       "      <th>108</th>\n",
       "      <td>40.5Snino winter</td>\n",
       "      <td>-0.971277</td>\n",
       "      <td>182.436143</td>\n",
       "    </tr>\n",
       "    <tr>\n",
       "      <th>109</th>\n",
       "      <td>40.5Snina winter</td>\n",
       "      <td>-1.402490</td>\n",
       "      <td>162.535970</td>\n",
       "    </tr>\n",
       "    <tr>\n",
       "      <th>110</th>\n",
       "      <td>40.5Sneutral winter</td>\n",
       "      <td>1.385926</td>\n",
       "      <td>172.695624</td>\n",
       "    </tr>\n",
       "    <tr>\n",
       "      <th>111</th>\n",
       "      <td>40.5Snino spring</td>\n",
       "      <td>0.645377</td>\n",
       "      <td>221.221906</td>\n",
       "    </tr>\n",
       "    <tr>\n",
       "      <th>112</th>\n",
       "      <td>40.5Snina spring</td>\n",
       "      <td>0.336784</td>\n",
       "      <td>198.469901</td>\n",
       "    </tr>\n",
       "    <tr>\n",
       "      <th>113</th>\n",
       "      <td>40.5Sneutral spring</td>\n",
       "      <td>5.613228</td>\n",
       "      <td>201.947995</td>\n",
       "    </tr>\n",
       "    <tr>\n",
       "      <th>114</th>\n",
       "      <td>40.5Snino summer</td>\n",
       "      <td>-1.483635</td>\n",
       "      <td>278.766618</td>\n",
       "    </tr>\n",
       "    <tr>\n",
       "      <th>115</th>\n",
       "      <td>40.5Snina summer</td>\n",
       "      <td>-0.352202</td>\n",
       "      <td>253.691625</td>\n",
       "    </tr>\n",
       "    <tr>\n",
       "      <th>116</th>\n",
       "      <td>40.5Sneutral summer</td>\n",
       "      <td>-0.166809</td>\n",
       "      <td>277.222459</td>\n",
       "    </tr>\n",
       "    <tr>\n",
       "      <th>117</th>\n",
       "      <td>40.5Snino fall</td>\n",
       "      <td>-39.275798</td>\n",
       "      <td>208.107787</td>\n",
       "    </tr>\n",
       "    <tr>\n",
       "      <th>118</th>\n",
       "      <td>40.5Snina fall</td>\n",
       "      <td>-0.476596</td>\n",
       "      <td>218.581430</td>\n",
       "    </tr>\n",
       "    <tr>\n",
       "      <th>119</th>\n",
       "      <td>40.5Sneutral fall</td>\n",
       "      <td>1.310123</td>\n",
       "      <td>216.021168</td>\n",
       "    </tr>\n",
       "  </tbody>\n",
       "</table>\n",
       "<p>120 rows × 3 columns</p>\n",
       "</div>"
      ],
      "text/plain": [
       "                    name       skew         var\n",
       "0       58.5Nnino winter  -0.159508  509.870514\n",
       "1       58.5Nnina winter  -0.429642  502.625568\n",
       "2    58.5Nneutral winter  -0.321109  542.798842\n",
       "3       58.5Nnino spring  -1.050231  384.394635\n",
       "4       58.5Nnina spring   0.290616  367.455810\n",
       "5    58.5Nneutral spring   0.805822  352.839923\n",
       "6       58.5Nnino summer   1.522569  234.396411\n",
       "7       58.5Nnina summer  -5.972210  230.384690\n",
       "8    58.5Nneutral summer   1.357973  217.620277\n",
       "9         58.5Nnino fall   0.321617  379.411534\n",
       "10        58.5Nnina fall   0.175340  383.907261\n",
       "11     58.5Nneutral fall   0.182353  388.583098\n",
       "12      31.5Snino winter   0.027010   58.041642\n",
       "13      31.5Snina winter   0.109466   55.632681\n",
       "14   31.5Sneutral winter  -0.275419   57.901194\n",
       "15      31.5Snino spring   0.609615   87.539932\n",
       "16      31.5Snina spring  -2.630782   74.322073\n",
       "17   31.5Sneutral spring   0.033434   85.978238\n",
       "18      31.5Snino summer  -0.437406  147.481417\n",
       "19      31.5Snina summer  -0.539583  138.915356\n",
       "20   31.5Sneutral summer  -0.492165  151.736997\n",
       "21        31.5Snino fall  -0.190992  114.306934\n",
       "22        31.5Snina fall  -0.216047   99.021668\n",
       "23     31.5Sneutral fall  -0.186384  111.372161\n",
       "24      45.0Nnino winter  -0.232637  499.747142\n",
       "25      45.0Nnina winter   0.150164  552.809552\n",
       "26   45.0Nneutral winter  -0.073994  499.719317\n",
       "27      45.0Nnino spring  -0.490483  309.758611\n",
       "28      45.0Nnina spring  -1.143344  304.283364\n",
       "29   45.0Nneutral spring  -0.450829  313.763816\n",
       "..                   ...        ...         ...\n",
       "90      36.0Snino summer  -0.627353  225.510244\n",
       "91      36.0Snina summer  -1.102747  207.091323\n",
       "92   36.0Sneutral summer  -0.383494  214.111217\n",
       "93        36.0Snino fall  -0.144428  165.460370\n",
       "94        36.0Snina fall   0.289449  160.876670\n",
       "95     36.0Sneutral fall   0.066111  165.697685\n",
       "96      54.0Nnino winter   0.205682  606.117537\n",
       "97      54.0Nnina winter   0.071486  538.887158\n",
       "98   54.0Nneutral winter  -0.106673  563.885113\n",
       "99      54.0Nnino spring  -0.109757  390.306675\n",
       "100     54.0Nnina spring   0.200169  374.811904\n",
       "101  54.0Nneutral spring   0.697484  356.445052\n",
       "102     54.0Nnino summer  -1.497659  217.906911\n",
       "103     54.0Nnina summer   0.145333  207.391855\n",
       "104  54.0Nneutral summer   0.270825  203.926838\n",
       "105       54.0Nnino fall  -0.164452  387.115716\n",
       "106       54.0Nnina fall   0.085704  377.418075\n",
       "107    54.0Nneutral fall   0.588370  401.328652\n",
       "108     40.5Snino winter  -0.971277  182.436143\n",
       "109     40.5Snina winter  -1.402490  162.535970\n",
       "110  40.5Sneutral winter   1.385926  172.695624\n",
       "111     40.5Snino spring   0.645377  221.221906\n",
       "112     40.5Snina spring   0.336784  198.469901\n",
       "113  40.5Sneutral spring   5.613228  201.947995\n",
       "114     40.5Snino summer  -1.483635  278.766618\n",
       "115     40.5Snina summer  -0.352202  253.691625\n",
       "116  40.5Sneutral summer  -0.166809  277.222459\n",
       "117       40.5Snino fall -39.275798  208.107787\n",
       "118       40.5Snina fall  -0.476596  218.581430\n",
       "119    40.5Sneutral fall   1.310123  216.021168\n",
       "\n",
       "[120 rows x 3 columns]"
      ]
     },
     "execution_count": 28,
     "metadata": {},
     "output_type": "execute_result"
    }
   ],
   "source": []
  },
  {
   "cell_type": "code",
   "execution_count": null,
   "metadata": {
    "collapsed": true
   },
   "outputs": [],
   "source": [
    "storage_list = []\n",
    "for wantfile in flabs:\n",
    "    index = str(wantfile[-10:-5])\n",
    "    ring = 'detrended/new_detrend_' + str(index) + '.h5'\n",
    "    data_store = pd.HDFStore(ring)\n",
    "    \n",
    "    \n",
    "    \n",
    "    # Retrieve data using key\n",
    "    untrend_df = data_store.select(\"untrend_geopot\")\n",
    "    untrend_df['adj_z'] = untrend_df['adj_z'].astype(np.float)\n",
    "    # get stats from each thing\n",
    "    untrend_df[\"season_mean\"] = untrend_df.groupby(['season', \"year\"])['adj_z'].transform('mean')\n",
    "    # get stats from each thing\n",
    "    untrend_df[\"season_variance\"] = untrend_df.groupby(['season', \"year\"])['adj_z'].transform('var')\n",
    "\n",
    "    # get stats from each thing\n",
    "    untrend_df[\"diff_from_season\"] = untrend_df[\"adj_z\"] - untrend_df[\"season_mean\"]\n",
    "    \n",
    "    #actual means\n",
    "    act_skew = untrend_df.groupby(['season'])['diff_from_season'].skew()\n",
    "    act_var = untrend_df.groupby(['season'])['diff_from_season'].var()\n",
    "    \n",
    "    \n",
    "    storage_list.append([index,act_var,act_skew])"
   ]
  },
  {
   "cell_type": "code",
   "execution_count": 5,
   "metadata": {
    "collapsed": true
   },
   "outputs": [],
   "source": [
    "seasons = [\"winter\", \"spring\", \"summer\", \"fall\"]\n",
    "ens = [\"nino\", \"nina\", \"neutral\"]\n",
    "d2_names = [enso + \" \" + part for part in seasons for enso in ens]"
   ]
  },
  {
   "cell_type": "code",
   "execution_count": 6,
   "metadata": {
    "collapsed": true
   },
   "outputs": [],
   "source": [
    "flatten = lambda l: [item for sublist in l for item in sublist]\n",
    "    #flatten each \n",
    "flat_sims = [[flatten(entry) for entry in sublist] for sublist in sims]"
   ]
  },
  {
   "cell_type": "code",
   "execution_count": 9,
   "metadata": {
    "collapsed": false
   },
   "outputs": [
    {
     "name": "stdout",
     "output_type": "stream",
     "text": [
      "hi\n"
     ]
    },
    {
     "data": {
      "text/plain": [
       "<Figure size 432x288 with 0 Axes>"
      ]
     },
     "metadata": {},
     "output_type": "display_data"
    },
    {
     "data": {
      "image/png": "[encoded data removed]",
      "text/plain": [
       "<Figure size 1080x360 with 1 Axes>"
      ]
     },
     "metadata": {},
     "output_type": "display_data"
    },
    {
     "name": "stdout",
     "output_type": "stream",
     "text": [
      "hi\n"
     ]
    },
    {
     "data": {
      "text/plain": [
       "<Figure size 432x288 with 0 Axes>"
      ]
     },
     "metadata": {},
     "output_type": "display_data"
    },
    {
     "data": {
      "image/png": "[encoded data removed]",
      "text/plain": [
       "<Figure size 1080x360 with 1 Axes>"
      ]
     },
     "metadata": {},
     "output_type": "display_data"
    },
    {
     "name": "stdout",
     "output_type": "stream",
     "text": [
      "hi\n"
     ]
    },
    {
     "data": {
      "text/plain": [
       "<Figure size 432x288 with 0 Axes>"
      ]
     },
     "metadata": {},
     "output_type": "display_data"
    },
    {
     "data": {
      "image/png": "[encoded data removed]",
      "text/plain": [
       "<Figure size 1080x360 with 1 Axes>"
      ]
     },
     "metadata": {},
     "output_type": "display_data"
    },
    {
     "name": "stdout",
     "output_type": "stream",
     "text": [
      "hi\n"
     ]
    },
    {
     "data": {
      "text/plain": [
       "<Figure size 432x288 with 0 Axes>"
      ]
     },
     "metadata": {},
     "output_type": "display_data"
    },
    {
     "data": {
      "image/png": "[encoded data removed]",
      "text/plain": [
       "<Figure size 1080x360 with 1 Axes>"
      ]
     },
     "metadata": {},
     "output_type": "display_data"
    }
   ],
   "source": [
    "for j in range(4):\n",
    "    plt.clf();\n",
    "    plt.figure(figsize=(15, 5));\n",
    "    plt.hist(x = np.real(untrend_df[untrend_df[\"season\"] == seasons[j]][\"diff_mean\"]), \n",
    "                 bins = 20, density = True, \n",
    "                 alpha = 0.5, label = \"reanalysis\")\n",
    "    \n",
    "        \n",
    "    flat_all = []\n",
    "    for k in range(len(flat_sims)):\n",
    "        flat_tested = flat_sims[k]\n",
    "        flat_all.append(flat_tested[j])\n",
    "        \n",
    "        \n",
    "       \n",
    "    flat_all = flatten(flat_all)\n",
    "    for k in range(3):\n",
    "        #print(\"hi\")\n",
    "        plt.hist(x = np.real(flat_all[j*3 + k]), bins = 100, \n",
    "                 density = True, alpha = 0.5, label = d2_names[j*3 + k])\n",
    "        \n",
    "    plt.ylabel(\"density\")\n",
    "    plt.legend()\n",
    "    plt.xlabel(\"departure from mean geopotential height\")\n",
    "    plt.title(str(flabs[wantfile][-10:-5]) + \" season: \" +str(seasons[j]))\n",
    "    \n",
    "    # formatting\n",
    "    sns.set_style(\"ticks\")\n",
    "    sns.set_context(\"poster\")\n",
    "    sns.despine() \n",
    "    plt.show()\n",
    "        \n",
    "        "
   ]
  },
  {
   "cell_type": "code",
   "execution_count": 31,
   "metadata": {
    "collapsed": true
   },
   "outputs": [],
   "source": [
    " for j in range(4):\n",
    "        \n",
    "    flat_all = []\n",
    "    for k in range(len(sims)):\n",
    "        flat_tested = flat_sims[k]\n",
    "        \n",
    "        flat_all.append(flat_tested[j])"
   ]
  },
  {
   "cell_type": "code",
   "execution_count": 33,
   "metadata": {
    "collapsed": false
   },
   "outputs": [
    {
     "data": {
      "text/plain": [
       "6606240"
      ]
     },
     "execution_count": 33,
     "metadata": {},
     "output_type": "execute_result"
    }
   ],
   "source": [
    "len(flat_all[0])"
   ]
  },
  {
   "cell_type": "code",
   "execution_count": 47,
   "metadata": {
    "collapsed": true
   },
   "outputs": [],
   "source": [
    "wantfile = 0\n",
    "    \n",
    "index = str(flabs[wantfile][-10:-5])\n",
    "    \n",
    "# get detrend \n",
    "ring = 'detrended/new_detrend_' + str(index) + '.h5'\n",
    "    \n",
    "data_store = pd.HDFStore(ring)"
   ]
  },
  {
   "cell_type": "code",
   "execution_count": 48,
   "metadata": {
    "collapsed": false
   },
   "outputs": [
    {
     "name": "stderr",
     "output_type": "stream",
     "text": [
      "/home/clairev/anaconda3/lib/python3.7/site-packages/pandas/core/dtypes/cast.py:702: ComplexWarning: Casting complex values to real discards the imaginary part\n",
      "  return arr.astype(dtype, copy=True)\n"
     ]
    }
   ],
   "source": [
    "storage_list = []\n",
    "for wantfile in flabs:\n",
    "    index = str(wantfile[-10:-5])\n",
    "    ring = 'detrended/new_detrend_' + str(index) + '.h5'\n",
    "    data_store = pd.HDFStore(ring)\n",
    "    \n",
    "    \n",
    "    \n",
    "    # Retrieve data using key\n",
    "    untrend_df = data_store.select(\"untrend_geopot\")\n",
    "    untrend_df['adj_z'] = untrend_df['adj_z'].astype(np.float)\n",
    "    # get stats from each thing\n",
    "    untrend_df[\"season_mean\"] = untrend_df.groupby(['season', \"year\"])['adj_z'].transform('mean')\n",
    "    # get stats from each thing\n",
    "    untrend_df[\"season_variance\"] = untrend_df.groupby(['season', \"year\"])['adj_z'].transform('var')\n",
    "\n",
    "    # get stats from each thing\n",
    "    untrend_df[\"diff_from_season\"] = untrend_df[\"adj_z\"] - untrend_df[\"season_mean\"]\n",
    "    \n",
    "    #actual means\n",
    "    act_skew = untrend_df.groupby(['season'])['diff_from_season'].skew()\n",
    "    act_var = untrend_df.groupby(['season'])['diff_from_season'].var()\n",
    "    \n",
    "    \n",
    "    storage_list.append([index,act_var,act_skew])"
   ]
  },
  {
   "cell_type": "code",
   "execution_count": 49,
   "metadata": {
    "collapsed": false
   },
   "outputs": [
    {
     "data": {
      "text/plain": [
       "13"
      ]
     },
     "execution_count": 49,
     "metadata": {},
     "output_type": "execute_result"
    }
   ],
   "source": [
    "len(storage_list)"
   ]
  },
  {
   "cell_type": "code",
   "execution_count": 28,
   "metadata": {
    "collapsed": true
   },
   "outputs": [],
   "source": [
    "# Retrieve data using key\n",
    "untrend_df = data_store.select(\"untrend_geopot\")\n",
    "untrend_df['adj_z'] = untrend_df['adj_z'].astype(np.float)"
   ]
  },
  {
   "cell_type": "code",
   "execution_count": 29,
   "metadata": {
    "collapsed": true
   },
   "outputs": [],
   "source": [
    "# get stats from each thing\n",
    "untrend_df[\"season_mean\"] = untrend_df.groupby(['season', \"year\"])['adj_z'].transform('mean')\n",
    "# get stats from each thing\n",
    "untrend_df[\"season_variance\"] = untrend_df.groupby(['season', \"year\"])['adj_z'].transform('var')\n",
    "\n",
    "# get stats from each thing\n",
    "untrend_df[\"diff_from_season\"] = untrend_df[\"adj_z\"] - untrend_df[\"season_mean\"]"
   ]
  },
  {
   "cell_type": "code",
   "execution_count": null,
   "metadata": {
    "collapsed": true
   },
   "outputs": [],
   "source": []
  },
  {
   "cell_type": "code",
   "execution_count": 70,
   "metadata": {
    "collapsed": true
   },
   "outputs": [],
   "source": [
    "#actual means\n",
    "act_skew = untrend_df.groupby(['season'])['diff_from_season'].skew()\n",
    "act_var = untrend_df.groupby(['season'])['diff_from_season'].var()"
   ]
  },
  {
   "cell_type": "code",
   "execution_count": 31,
   "metadata": {
    "collapsed": true
   },
   "outputs": [],
   "source": [
    "season_df = untrend_df[untrend_df[\"season\"] == \"fall\"]"
   ]
  },
  {
   "cell_type": "code",
   "execution_count": 32,
   "metadata": {
    "collapsed": true
   },
   "outputs": [],
   "source": [
    "test_vals = season_df[\"diff_from_season\"]"
   ]
  },
  {
   "cell_type": "code",
   "execution_count": 35,
   "metadata": {
    "collapsed": true
   },
   "outputs": [],
   "source": [
    "#test_vals"
   ]
  },
  {
   "cell_type": "code",
   "execution_count": 34,
   "metadata": {
    "collapsed": true
   },
   "outputs": [],
   "source": [
    "test_skew = skew(test_vals)"
   ]
  },
  {
   "cell_type": "code",
   "execution_count": 71,
   "metadata": {
    "collapsed": false
   },
   "outputs": [
    {
     "data": {
      "text/plain": [
       "season\n",
       "fall     -0.407854\n",
       "spring   -0.431184\n",
       "summer   -0.595719\n",
       "winter   -0.210709\n",
       "Name: diff_from_season, dtype: float64"
      ]
     },
     "execution_count": 71,
     "metadata": {},
     "output_type": "execute_result"
    }
   ],
   "source": [
    "act_skew"
   ]
  },
  {
   "cell_type": "code",
   "execution_count": 66,
   "metadata": {
    "collapsed": true
   },
   "outputs": [],
   "source": [
    "test_skew = untrend_df.groupby(['season',\"year\"])['diff_from_season'].skew()"
   ]
  },
  {
   "cell_type": "code",
   "execution_count": 69,
   "metadata": {
    "collapsed": false
   },
   "outputs": [
    {
     "data": {
      "text/plain": [
       "-0.40382844767999915"
      ]
     },
     "execution_count": 69,
     "metadata": {},
     "output_type": "execute_result"
    }
   ],
   "source": [
    "np.average(test_skew[\"fall\"]) # honestly its pretty close so im going to use that.. "
   ]
  },
  {
   "cell_type": "code",
   "execution_count": 37,
   "metadata": {
    "collapsed": false
   },
   "outputs": [
    {
     "data": {
      "text/plain": [
       "season\n",
       "fall      389.564229\n",
       "spring    358.382595\n",
       "summer    223.546377\n",
       "winter    532.385968\n",
       "Name: diff_from_season, dtype: float64"
      ]
     },
     "execution_count": 37,
     "metadata": {},
     "output_type": "execute_result"
    }
   ],
   "source": [
    "act_var # have variance"
   ]
  },
  {
   "cell_type": "code",
   "execution_count": 36,
   "metadata": {
    "collapsed": false
   },
   "outputs": [
    {
     "data": {
      "text/plain": [
       "season\n",
       "fall      0.256179\n",
       "spring    0.168065\n",
       "summer   -0.184236\n",
       "winter    0.302864\n",
       "Name: diff_from_season, dtype: float64"
      ]
     },
     "execution_count": 36,
     "metadata": {},
     "output_type": "execute_result"
    }
   ],
   "source": [
    "act_skew # now repeat this many times"
   ]
  },
  {
   "cell_type": "code",
   "execution_count": null,
   "metadata": {
    "collapsed": true
   },
   "outputs": [],
   "source": [
    "# get stats from each thing\n",
    "untrend_df[\"season_mean\"] = df[\"sst_seasdiff\"].sub(df.groupby('year_num')[\"sst_seasdiff\"].transform('mean'))"
   ]
  },
  {
   "cell_type": "code",
   "execution_count": 59,
   "metadata": {
    "collapsed": false
   },
   "outputs": [
    {
     "data": {
      "text/plain": [
       "[]"
      ]
     },
     "execution_count": 59,
     "metadata": {},
     "output_type": "execute_result"
    }
   ],
   "source": [
    "f[0:20]\n"
   ]
  },
  {
   "cell_type": "code",
   "execution_count": 58,
   "metadata": {
    "collapsed": true
   },
   "outputs": [],
   "source": [
    "seasons = [\"winter\",\"spring\",\"summer\",\"fall\"]\n",
    "# write flatten function\n",
    "winter_means = list(untrend_df[untrend_df[\"season\"]\n",
    "                                   == seasons[0]].groupby(['lon'])[\"adj_z\"].mean())\n",
    "spring_means = list(untrend_df[untrend_df[\"season\"] \n",
    "                                   == seasons[1]].groupby(['lon'])[\"adj_z\"].mean())\n",
    "summer_means = list(untrend_df[untrend_df[\"season\"] \n",
    "                                   == seasons[2]].groupby(['lon'])[\"adj_z\"].mean())\n",
    "fall_means = list(untrend_df[untrend_df[\"season\"]\n",
    "                                 == seasons[3]].groupby(['lon'])[\"adj_z\"].mean())\n",
    "\n",
    "all_means = [winter_means, spring_means, summer_means, fall_means]\n",
    "    \n",
    "# go through sims to get the correct ones\n",
    "sims = []\n",
    "for name in f[0:20]:\n",
    "    print(name)\n",
    "    if name[4:9] == flabs[wantfile][-10:-5]:\n",
    "        file_pickle = open(\"/scratch/midway2/clairev/from_home/01_full_sims/\" + name, \"rb\")\n",
    "        sims1 = pickle.load(file_pickle, encoding = \"latin1\", fix_imports=True)\n",
    "        newsims = [[list(np.add(sims1[season][0][j],\n",
    "                                    np.real(all_means[season][j]))) \n",
    "                        for j in range(len(sims1[season][0]))]\n",
    "                       for season in range(4)]\n",
    "        sims.append(newsims)\n",
    "     \n",
    "    \n",
    "flatten = lambda l: [item for sublist in l for item in sublist]\n",
    "    #flatten each \n",
    "flat_sims = [[flatten(entry) for entry in sublist] for sublist in sims]   "
   ]
  },
  {
   "cell_type": "code",
   "execution_count": 46,
   "metadata": {
    "collapsed": true
   },
   "outputs": [],
   "source": [
    "sertest = (entry for entry in sims)"
   ]
  },
  {
   "cell_type": "code",
   "execution_count": 1,
   "metadata": {
    "collapsed": false
   },
   "outputs": [],
   "source": [
    "# teststack = np.dstack((sims[0], sims[1]))\n",
    "# flatten around last axis\n",
    "# newstack = [[flatten(entry) for entry in season] for season in teststack]"
   ]
  },
  {
   "cell_type": "code",
   "execution_count": 52,
   "metadata": {
    "collapsed": false
   },
   "outputs": [
    {
     "ename": "IndexError",
     "evalue": "list index out of range",
     "output_type": "error",
     "traceback": [
      "\u001b[0;31m---------------------------------------------------------------------------\u001b[0m",
      "\u001b[0;31mIndexError\u001b[0m                                Traceback (most recent call last)",
      "\u001b[0;32m<ipython-input-52-ff1eaadbc58d>\u001b[0m in \u001b[0;36m<module>\u001b[0;34m()\u001b[0m\n\u001b[1;32m      1\u001b[0m \u001b[0mrunnumber\u001b[0m \u001b[0;34m=\u001b[0m \u001b[0mlen\u001b[0m\u001b[0;34m(\u001b[0m\u001b[0msims\u001b[0m\u001b[0;34m)\u001b[0m\u001b[0;34m\u001b[0m\u001b[0m\n\u001b[0;32m----> 2\u001b[0;31m \u001b[0mentry_len\u001b[0m \u001b[0;34m=\u001b[0m \u001b[0mlen\u001b[0m\u001b[0;34m(\u001b[0m\u001b[0msims\u001b[0m\u001b[0;34m[\u001b[0m\u001b[0;36m0\u001b[0m\u001b[0;34m]\u001b[0m\u001b[0;34m[\u001b[0m\u001b[0;36m0\u001b[0m\u001b[0;34m]\u001b[0m\u001b[0;34m[\u001b[0m\u001b[0;36m0\u001b[0m\u001b[0;34m]\u001b[0m\u001b[0;34m)\u001b[0m\u001b[0;34m\u001b[0m\u001b[0m\n\u001b[0m\u001b[1;32m      3\u001b[0m \u001b[0;34m\u001b[0m\u001b[0m\n\u001b[1;32m      4\u001b[0m \u001b[0mlon_skew\u001b[0m \u001b[0;34m=\u001b[0m \u001b[0;34m[\u001b[0m\u001b[0;34m[\u001b[0m\u001b[0mskew\u001b[0m\u001b[0;34m(\u001b[0m\u001b[0mentry\u001b[0m\u001b[0;34m)\u001b[0m \u001b[0;32mfor\u001b[0m \u001b[0mentry\u001b[0m \u001b[0;32min\u001b[0m \u001b[0mseason\u001b[0m\u001b[0;34m]\u001b[0m \u001b[0;32mfor\u001b[0m \u001b[0mseason\u001b[0m \u001b[0;32min\u001b[0m \u001b[0mnewstack\u001b[0m\u001b[0;34m]\u001b[0m\u001b[0;34m\u001b[0m\u001b[0m\n\u001b[1;32m      5\u001b[0m \u001b[0;34m\u001b[0m\u001b[0m\n",
      "\u001b[0;31mIndexError\u001b[0m: list index out of range"
     ]
    }
   ],
   "source": [
    "runnumber = len(sims)\n",
    "entry_len = len(sims[0][0][0])\n",
    "\n",
    "lon_skew = [[skew(entry) for entry in season] for season in newstack]\n",
    "\n",
    "full_skew = [skew(season) for season in newstack]"
   ]
  },
  {
   "cell_type": "code",
   "execution_count": 54,
   "metadata": {
    "collapsed": true
   },
   "outputs": [],
   "source": [
    "# now put everythig into a dataframe\n",
    "for season in range(4):\n",
    "    \n",
    "    meds = lon_median[season]\n",
    "    meds.append(full_median[season])\n",
    "    \n",
    "    skewed = lon_skew[season]\n",
    "    skewed.append(full_skew[season])\n",
    "    \n",
    "    varr = lon_vars[season]\n",
    "    varr.append(full_var[season])\n",
    "    \n",
    "    avgs = lon_avgs[season]\n",
    "    avgs.append(full_avg[season])\n",
    "    \n",
    "    lon_list = [i*1.5 for i in range(240)]\n",
    "    lon_list.append(\"all\")\n",
    "    \n",
    "    runtimes = [runnumber for i in range(241)]\n",
    "    entrylen = [entry_len for i in range(241)]\n",
    "    version = [flabs[wantfile][-10:-5] for i in range(241)]\n",
    "    \n",
    "    #append all to a temp frame\n",
    "    d = {\"version\" : version, \"runtimes\" : runtimes, \"entrylen\" : entrylen,\n",
    "        \"lon\": lon_list, \"median\" : meds, \"skew\" : skewed, \"variance\":varr, \"average\" : avgs}\n",
    "    \n",
    "    df = pd.DataFrame(data=d)\n",
    "    \n",
    "    jjj = jjj + 1"
   ]
  },
  {
   "cell_type": "code",
   "execution_count": 58,
   "metadata": {
    "collapsed": false
   },
   "outputs": [
    {
     "data": {
      "text/plain": [
       "5"
      ]
     },
     "execution_count": 58,
     "metadata": {},
     "output_type": "execute_result"
    }
   ],
   "source": [
    "jjj"
   ]
  },
  {
   "cell_type": "code",
   "execution_count": 37,
   "metadata": {
    "collapsed": true
   },
   "outputs": [],
   "source": [
    "# see if dataframe saved alright -- and it did\n",
    "unpickled_df = pd.read_pickle(\"sims1_stats.pkl\")"
   ]
  },
  {
   "cell_type": "code",
   "execution_count": 5,
   "metadata": {
    "collapsed": true
   },
   "outputs": [],
   "source": [
    "#unpickled_df[unpickled_df[\"version\"] == \"58.5S\"]"
   ]
  },
  {
   "cell_type": "code",
   "execution_count": 3,
   "metadata": {
    "collapsed": true
   },
   "outputs": [],
   "source": [
    "old_stats = pd.read_csv(\"sims1_stats.csv\")"
   ]
  },
  {
   "cell_type": "code",
   "execution_count": 38,
   "metadata": {
    "collapsed": true
   },
   "outputs": [],
   "source": [
    "old_stats = unpickled_df"
   ]
  },
  {
   "cell_type": "code",
   "execution_count": 39,
   "metadata": {
    "collapsed": true
   },
   "outputs": [],
   "source": [
    "old_skew = old_stats[old_stats[\"lon\"] == 500][\"skew\"]"
   ]
  },
  {
   "cell_type": "code",
   "execution_count": 40,
   "metadata": {
    "collapsed": true
   },
   "outputs": [],
   "source": [
    "def get_skew(mean,median,variance):\n",
    "    sd = np.sqrt(variance)\n",
    "    return 3*(mean - median)/ sd"
   ]
  },
  {
   "cell_type": "code",
   "execution_count": 41,
   "metadata": {
    "collapsed": true
   },
   "outputs": [],
   "source": [
    "import re\n",
    "class TFConverter(dict):\n",
    "    column_name_pattern = re.compile(r'_tf$')\n",
    "    def __getitem__(self, k):\n",
    "        if k in self:\n",
    "            return TFConverter.convert\n",
    "        else:\n",
    "            raise KeyError(k)\n",
    "    def __contains__(self,k):\n",
    "        return self.column_name_pattern.search(k) is not None\n",
    "    @staticmethod\n",
    "    def convert(txt):\n",
    "        return complex(txt.strip(\"()\"))\n",
    "\n",
    "def read_tf_csv(filename, **kwargs):\n",
    "    return pd.read_csv(filename, converters = TFConverter(), **kwargs)"
   ]
  },
  {
   "cell_type": "code",
   "execution_count": 42,
   "metadata": {
    "collapsed": true
   },
   "outputs": [],
   "source": [
    "old_stats[\"new_skew\"] = get_skew(old_stats[\"average\"], old_stats[\"variance\"], old_stats[\"median\"])"
   ]
  },
  {
   "cell_type": "code",
   "execution_count": 45,
   "metadata": {
    "collapsed": true
   },
   "outputs": [],
   "source": [
    "# save it again as a CSV!\n",
    "old_stats.to_csv(\"sims1_stats2.csv\")"
   ]
  },
  {
   "cell_type": "code",
   "execution_count": 49,
   "metadata": {
    "collapsed": false
   },
   "outputs": [
    {
     "data": {
      "text/plain": [
       "[['58.5N', season\n",
       "  fall      389.564229\n",
       "  spring    358.382595\n",
       "  summer    223.546377\n",
       "  winter    532.385968\n",
       "  Name: diff_from_season, dtype: float64, season\n",
       "  fall      0.256179\n",
       "  spring    0.168065\n",
       "  summer   -0.184236\n",
       "  winter    0.302864\n",
       "  Name: diff_from_season, dtype: float64], ['31.5S', season\n",
       "  fall      110.261088\n",
       "  spring     82.412888\n",
       "  summer    150.716904\n",
       "  winter     58.867478\n",
       "  Name: diff_from_season, dtype: float64, season\n",
       "  fall     -0.420345\n",
       "  spring   -0.538256\n",
       "  summer   -0.415503\n",
       "  winter   -0.605304\n",
       "  Name: diff_from_season, dtype: float64], ['45.0N', season\n",
       "  fall      284.486461\n",
       "  spring    316.910050\n",
       "  summer    134.797566\n",
       "  winter    546.963363\n",
       "  Name: diff_from_season, dtype: float64, season\n",
       "  fall     -0.323167\n",
       "  spring   -0.317565\n",
       "  summer   -0.531423\n",
       "  winter   -0.124741\n",
       "  Name: diff_from_season, dtype: float64], ['45.0S', season\n",
       "  fall      292.054864\n",
       "  spring    309.494125\n",
       "  summer    329.100689\n",
       "  winter    301.643735\n",
       "  Name: diff_from_season, dtype: float64, season\n",
       "  fall     -0.305224\n",
       "  spring   -0.504135\n",
       "  summer   -0.210158\n",
       "  winter   -0.469655\n",
       "  Name: diff_from_season, dtype: float64], ['58.5S', season\n",
       "  fall      436.235287\n",
       "  spring    475.715979\n",
       "  summer    491.687052\n",
       "  winter    382.248331\n",
       "  Name: diff_from_season, dtype: float64, season\n",
       "  fall      0.212365\n",
       "  spring    0.274388\n",
       "  summer    0.142022\n",
       "  winter    0.483158\n",
       "  Name: diff_from_season, dtype: float64], ['54.0S', season\n",
       "  fall      440.298301\n",
       "  spring    499.109734\n",
       "  summer    472.968543\n",
       "  winter    453.733755\n",
       "  Name: diff_from_season, dtype: float64, season\n",
       "  fall     -0.021755\n",
       "  spring   -0.021432\n",
       "  summer   -0.051517\n",
       "  winter    0.181555\n",
       "  Name: diff_from_season, dtype: float64], ['49.5S', season\n",
       "  fall      377.772146\n",
       "  spring    429.692642\n",
       "  summer    403.423016\n",
       "  winter    421.470354\n",
       "  Name: diff_from_season, dtype: float64, season\n",
       "  fall     -0.211970\n",
       "  spring   -0.305290\n",
       "  summer   -0.174252\n",
       "  winter   -0.159908\n",
       "  Name: diff_from_season, dtype: float64], ['36.0S', season\n",
       "  fall      163.421021\n",
       "  spring    133.053730\n",
       "  summer    218.234440\n",
       "  winter     99.818143\n",
       "  Name: diff_from_season, dtype: float64, season\n",
       "  fall     -0.385543\n",
       "  spring   -0.552024\n",
       "  summer   -0.287168\n",
       "  winter   -0.681203\n",
       "  Name: diff_from_season, dtype: float64], ['54.0N', season\n",
       "  fall      406.379124\n",
       "  spring    370.509623\n",
       "  summer    207.335775\n",
       "  winter    570.541907\n",
       "  Name: diff_from_season, dtype: float64, season\n",
       "  fall      0.068552\n",
       "  spring    0.032045\n",
       "  summer   -0.314286\n",
       "  winter    0.186250\n",
       "  Name: diff_from_season, dtype: float64], ['40.5S', season\n",
       "  fall      219.641575\n",
       "  spring    205.514957\n",
       "  summer    271.623321\n",
       "  winter    177.566157\n",
       "  Name: diff_from_season, dtype: float64, season\n",
       "  fall     -0.342464\n",
       "  spring   -0.577040\n",
       "  summer   -0.219582\n",
       "  winter   -0.662966\n",
       "  Name: diff_from_season, dtype: float64], ['36.0N', season\n",
       "  fall      112.316943\n",
       "  spring    160.060376\n",
       "  summer     57.161146\n",
       "  winter    278.281757\n",
       "  Name: diff_from_season, dtype: float64, season\n",
       "  fall     -0.375912\n",
       "  spring   -0.539909\n",
       "  summer   -0.646068\n",
       "  winter   -0.213900\n",
       "  Name: diff_from_season, dtype: float64], ['49.5N', season\n",
       "  fall      373.544178\n",
       "  spring    360.704142\n",
       "  summer    177.509422\n",
       "  winter    586.046137\n",
       "  Name: diff_from_season, dtype: float64, season\n",
       "  fall     -0.152528\n",
       "  spring   -0.148791\n",
       "  summer   -0.451394\n",
       "  winter    0.028529\n",
       "  Name: diff_from_season, dtype: float64], ['40.5N', season\n",
       "  fall      183.665350\n",
       "  spring    243.803518\n",
       "  summer     92.737145\n",
       "  winter    433.055791\n",
       "  Name: diff_from_season, dtype: float64, season\n",
       "  fall     -0.407854\n",
       "  spring   -0.431184\n",
       "  summer   -0.595719\n",
       "  winter   -0.210709\n",
       "  Name: diff_from_season, dtype: float64]]"
      ]
     },
     "execution_count": 49,
     "metadata": {},
     "output_type": "execute_result"
    }
   ],
   "source": [
    "storage_list"
   ]
  },
  {
   "cell_type": "code",
   "execution_count": null,
   "metadata": {
    "collapsed": true
   },
   "outputs": [],
   "source": []
  }
 ],
 "metadata": {
  "kernelspec": {
   "display_name": "Python 2",
   "language": "python",
   "name": "python2"
  },
  "language_info": {
   "codemirror_mode": {
    "name": "ipython",
    "version": 2
   },
   "file_extension": ".py",
   "mimetype": "text/x-python",
   "name": "python",
   "nbconvert_exporter": "python",
   "pygments_lexer": "ipython2",
   "version": "2.7.12"
  }
 },
 "nbformat": 4,
 "nbformat_minor": 2
}
