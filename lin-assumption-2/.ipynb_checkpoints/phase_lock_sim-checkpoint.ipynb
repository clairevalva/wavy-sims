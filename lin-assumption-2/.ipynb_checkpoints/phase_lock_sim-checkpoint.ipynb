{
 "cells": [
  {
   "cell_type": "markdown",
   "metadata": {},
   "source": [
    "last edited by Claire Valva on April 22, 2019, with cleanup on July 24, 2019\n",
    "\n",
    "# Tests simulation that includes phase locking\n",
    "this didn't really work/ phase locking is kind of a nonfactor"
   ]
  },
  {
   "cell_type": "code",
   "execution_count": 1,
   "metadata": {
    "collapsed": false
   },
   "outputs": [
    {
     "name": "stdout",
     "output_type": "stream",
     "text": [
      "[NbConvertApp] Converting notebook phase_lock_sim.ipynb to python\n",
      "[NbConvertApp] Writing 8151 bytes to phase_lock_sim.py\n"
     ]
    }
   ],
   "source": [
    "#!jupyter nbconvert --to python phase_lock_sim.ipynb"
   ]
  },
  {
   "cell_type": "code",
   "execution_count": 5,
   "metadata": {
    "collapsed": true
   },
   "outputs": [],
   "source": [
    "import numpy as np\n",
    "from netCDF4 import Dataset, num2date \n",
    "from scipy.signal import get_window, csd\n",
    "from scipy.fftpack import fft, ifft, fftshift, fftfreq\n",
    "import pandas as pd\n",
    "import datetime\n",
    "from math import pi\n",
    "from scipy import optimize\n",
    "from astropy.stats.circstats import circmean, circvar\n",
    "from os import walk\n",
    "from multiprocessing import Pool\n",
    "from sympy import Poly, Eq, Function, exp, re, im\n",
    "import pickle\n",
    "import time\n",
    "import random\n",
    "import multiprocessing as mp\n",
    "from joblib import Parallel, delayed"
   ]
  },
  {
   "cell_type": "code",
   "execution_count": 2,
   "metadata": {
    "collapsed": true
   },
   "outputs": [],
   "source": [
    "#get detrended parts\n",
    "f = []\n",
    "for (dirpath, dirnames, filenames) in walk('detrended/'):\n",
    "    f.extend(filenames)\n",
    "    break"
   ]
  },
  {
   "cell_type": "code",
   "execution_count": 3,
   "metadata": {
    "collapsed": true
   },
   "outputs": [],
   "source": [
    "# root finders\n",
    "#use these\n",
    "def solve_f(X, solution):\n",
    "    #function to solve f coeff equation for trend analysis\n",
    "    x,y = X\n",
    "    f = x*np.exp(1j*y) - solution\n",
    "    return [np.real(f), np.imag(f)] \n",
    "\n",
    "def real_f(X, solution):\n",
    "    #function to wrap solve_f so that it can be used with fsolve\n",
    "    x,y = X\n",
    "    z = [x+0j,y+0j]\n",
    "    actual_f = solve_f(z, solution)\n",
    "    return(actual_f)\n",
    "\n",
    "# solve for phase\n",
    "def root_find(sol):\n",
    "    return optimize.root(real_f, [np.real(sol), 0], args=sol).x"
   ]
  },
  {
   "cell_type": "code",
   "execution_count": 6,
   "metadata": {
    "collapsed": true
   },
   "outputs": [],
   "source": [
    "# get function to generate random coeffs\n",
    "def entry_fft(amp, phase = random.uniform(0, 2*pi)):\n",
    "    # takes amplitude and phase to give corresponding fourier coeff\n",
    "    entry = amp*np.exp(1j*phase)\n",
    "    return entry\n",
    "\n",
    "# write functions to make a longer ifft\n",
    "def ext_row(row, n):\n",
    "    ext_f = np.zeros(((len(row) - 1) * n + 1,), dtype=\"complex128\")\n",
    "    ext_f[::n] = row * n\n",
    "    \n",
    "    return ext_f\n",
    "\n",
    "def ext_ifft_new(n, input_array):\n",
    "    # add the zeros onto each end\n",
    "    ext_f = [ext_row(entry,n) for entry in input_array]\n",
    "    \n",
    "    # make up for the formulat multiplying for array length\n",
    "    olddim = len(input_array[5])\n",
    "    newdim = len(ext_f[0])\n",
    "    mult = newdim/olddim\n",
    "    \n",
    "    ext_f = np.multiply(ext_f, mult)\n",
    "    adjusted_tested = np.fft.ifft2(ext_f)\n",
    "    \n",
    "    return adjusted_tested\n",
    "\n",
    "\n",
    "season_titles = [\"Winter\", \"Spring\", \"Summer\", \"Fall\"]\n",
    "\n",
    "# flatten season for plotting\n",
    "flatten = lambda l: [item for sublist in l for item in sublist]"
   ]
  },
  {
   "cell_type": "code",
   "execution_count": 23,
   "metadata": {
    "collapsed": true
   },
   "outputs": [],
   "source": [
    "file_pickle = open(\"spectra_copy/spectra_02_45.0Narr.pickle\", \"rb\")\n",
    "d2_touse, d2_seasons, d2_averages = pickle.load(file_pickle, encoding='latin1')"
   ]
  },
  {
   "cell_type": "code",
   "execution_count": 9,
   "metadata": {
    "collapsed": true
   },
   "outputs": [],
   "source": [
    "filed = [\"spectra/spectra_02_45.0Sarr.pickle\", \n",
    "         \"spectra/spectra_02_45.0Narr.pickle\"]"
   ]
  },
  {
   "cell_type": "code",
   "execution_count": 39,
   "metadata": {
    "collapsed": true
   },
   "outputs": [],
   "source": [
    "mean_phases_lock = [[-1.20929458e-16,  1.65918271e-01, -2.17292412e-01, -2.40352609e-01,\n",
    "        8.64205449e-02,  1.07202695e-02],[-1.21105919e-16,  3.96836386e-01, -5.77513605e-01,  5.62200988e-01,\n",
    "        3.64883992e-01, -7.35447431e-02]]"
   ]
  },
  {
   "cell_type": "code",
   "execution_count": 40,
   "metadata": {
    "collapsed": true
   },
   "outputs": [],
   "source": [
    "stds_lock = [[0.        , 0.35092645, 0.37481109, 0.36100874, 0.35869798,\n",
    "       0.36139656], [0.        , 0.22681627, 0.40726111, 0.39961749, 0.37641118,\n",
    "       0.36154913]]"
   ]
  },
  {
   "cell_type": "code",
   "execution_count": 38,
   "metadata": {
    "collapsed": true
   },
   "outputs": [],
   "source": [
    "for heythere in range(1):\n",
    "# get function to generate random coeffs\n",
    "    def entry_fft(amp,std,wavenum, phase = random.uniform(0, 2*pi)):\n",
    "    # takes amplitude and phase to give corresponding fourier coeff\n",
    "        if np.abs(wavenum) <= 6:\n",
    "            phase = np.random.normal(loc = mean_phases_lock[ko][wavenum], scale = stds_lock[ko][wavenum])\n",
    "        \n",
    "        amp_new = np.random.normal(loc = amp, scale = std)\n",
    "        entry = amp_new*np.exp(1j*phase)\n",
    "        return entry\n",
    "    \n",
    "    # write functions to make a longer ifft\n",
    "    def ext_row(row, n):\n",
    "        ext_f = np.zeros(((len(row) - 1) * n + 1,), dtype=\"complex128\")\n",
    "        ext_f[::n] = row * n\n",
    "    \n",
    "        return ext_f\n",
    "\n",
    "    def ext_ifft_new(n, input_array):\n",
    "    # add the zeros onto each end\n",
    "        ext_f = [ext_row(entry,n) for entry in input_array]\n",
    "    \n",
    "        # make up for the formulat multiplying for array length\n",
    "        olddim = len(input_array[5])\n",
    "        newdim = len(ext_f[0])\n",
    "        mult = newdim/olddim\n",
    "    \n",
    "        # ext_f = np.multiply(mult, ext_f)\n",
    "        adjusted_tested = np.fft.ifft2(ext_f)\n",
    "    \n",
    "        return adjusted_tested\n",
    "    \n",
    "    def combined(amps,stds, length):\n",
    "    # combines generation of random phase with inverse transform\n",
    "        newarray = [[entry_fft(amp = amps[wave][timed],\n",
    "                               std = stds[wave][timed], wavenum = wave, \n",
    "                               phase = random.uniform(0, 2*pi)) \n",
    "                     for timed in range(len(amps[wave]))]\n",
    "                    for wave in range(len(amps))]\n",
    "    \n",
    "        newarray = [np.array(leaf) for leaf in newarray]\n",
    "        iffted = ext_ifft_new(length, newarray)\n",
    "        \n",
    "        return iffted"
   ]
  },
  {
   "cell_type": "code",
   "execution_count": 11,
   "metadata": {
    "collapsed": true
   },
   "outputs": [],
   "source": [
    "for ko in range(2):\n",
    "    file_pickle = open(filed[ko], \"rb\")\n",
    "    d2_touse, d2_seasons, d2_averages = pickle.load(file_pickle, encoding='latin1')\n",
    "    \n",
    "    \n",
    "    alled = [[[[root_find(entry) for entry in sublist] \n",
    "                   for sublist in year] \n",
    "                  for year in season] \n",
    "                 for season in d2_seasons]\n",
    "    phases = roots[:,:,:,1]\n",
    "    amps = roots[:,:,:,0]\n",
    "\n",
    "    \n",
    "    def padded(to_pad, index):\n",
    "        length = len(to_pad)\n",
    "        if index == 0:\n",
    "            zeros = longl - length\n",
    "            to_pad = list(to_pad)\n",
    "            for i in range(zeros):\n",
    "                to_pad.append(0)\n",
    "            return to_pad\n",
    "        else:\n",
    "            return to_pad\n",
    "\n",
    "    #pad rows with zeros to account for leap year\n",
    "    season_amps_adj = [[[padded(row, index = i)  \n",
    "                         for row in entry] \n",
    "                        for entry in amps[i]] \n",
    "                       for i in range(4)]\n",
    "\n",
    "    #get average amplitude and phases for each season\n",
    "    avg_amps = [np.average(season, axis = 0) \n",
    "                for season in season_amps_adj]\n",
    "\n",
    "    #get average amplitude and phases for each season\n",
    "    std_amps = [np.std(season, axis = 0) \n",
    "                for season in season_amps_adj]\n",
    "    \n",
    "    def entry_fft(amp,std,wavenum, phase = random.uniform(0, 2*pi)):\n",
    "    # takes amplitude and phase to give corresponding fourier coeff\n",
    "        if np.abs(wavenum) <= 6:\n",
    "            phase = np.random.normal(loc = mean_phases_lock[ko][wavenum], scale = stds_lock[ko][wavenum])\n",
    "        \n",
    "        amp_new = np.random.normal(loc = amp, scale = std)\n",
    "        entry = amp_new*np.exp(1j*phase)\n",
    "        return entry\n",
    "    \n",
    "    # write functions to make a longer ifft\n",
    "    def ext_row(row, n):\n",
    "        ext_f = np.zeros(((len(row) - 1) * n + 1,), dtype=\"complex128\")\n",
    "        ext_f[::n] = row * n\n",
    "    \n",
    "        return ext_f\n",
    "\n",
    "    def ext_ifft_new(n, input_array):\n",
    "    # add the zeros onto each end\n",
    "        ext_f = [ext_row(entry,n) for entry in input_array]\n",
    "    \n",
    "        # make up for the formulat multiplying for array length\n",
    "        olddim = len(input_array[5])\n",
    "        newdim = len(ext_f[0])\n",
    "        mult = newdim/olddim\n",
    "    \n",
    "        # ext_f = np.multiply(mult, ext_f)\n",
    "        adjusted_tested = np.fft.ifft2(ext_f)\n",
    "    \n",
    "        return adjusted_tested\n",
    "    \n",
    "    def combined(amps,stds, length):\n",
    "    # combines generation of random phase with inverse transform\n",
    "        newarray = [[entry_fft(amp = amps[wave][timed],\n",
    "                               std = stds[wave][timed], wavenum = wave, \n",
    "                               phase = random.uniform(0, 2*pi)) \n",
    "                     for timed in range(len(amps[wave]))]\n",
    "                    for wave in range(len(amps))]\n",
    "    \n",
    "        newarray = [np.array(leaf) for leaf in newarray]\n",
    "        iffted = ext_ifft_new(length, newarray)\n",
    "        \n",
    "        return iffted\n",
    "    \n",
    "    def repeater(season, stds, length, times):\n",
    "        # repeats the phase creation and inverse transform\n",
    "        newarray = [combined(season,stds,length) for leaf in range(times)] \n",
    "        return(newarray)\n",
    "    \n",
    "    def repeater_2(amps,stds, length, times):\n",
    "        #do procedure\n",
    "        repeated_comp = [repeater(amps[i],stds[i], length, times)\n",
    "                     for i in range(4)]\n",
    "    \n",
    "    #output.put(repeated_comp)\n",
    "    \n",
    "    \n",
    "    #listed_parts.append(repeated_comp)\n",
    "    \n",
    "        import pickle\n",
    "        \n",
    "    \n",
    "        file_name2 = \"sim_samp/\"\n",
    "        file_pickle = open(file_name2,'wb') \n",
    "        pickle.dump(repeated_comp,file_pickle)\n",
    "        file_pickle.close()\n",
    "    \n",
    "        return repeated_comp\n",
    "    \n",
    "    \n",
    "    runlen = 70\n",
    "    runtimes = 4\n",
    "    toplot = repeater_2(avg_amps,std_amps, runlen, runtimes)    "
   ]
  },
  {
   "cell_type": "code",
   "execution_count": null,
   "metadata": {
    "collapsed": true
   },
   "outputs": [],
   "source": []
  },
  {
   "cell_type": "code",
   "execution_count": null,
   "metadata": {
    "collapsed": true
   },
   "outputs": [],
   "source": []
  }
 ],
 "metadata": {
  "kernelspec": {
   "display_name": "Python 2",
   "language": "python",
   "name": "python2"
  },
  "language_info": {
   "codemirror_mode": {
    "name": "ipython",
    "version": 2
   },
   "file_extension": ".py",
   "mimetype": "text/x-python",
   "name": "python",
   "nbconvert_exporter": "python",
   "pygments_lexer": "ipython2",
   "version": "2.7.12"
  }
 },
 "nbformat": 4,
 "nbformat_minor": 2
}
