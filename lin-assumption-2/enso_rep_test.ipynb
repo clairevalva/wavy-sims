{
 "cells": [
  {
   "cell_type": "markdown",
   "metadata": {},
   "source": [
    "last edited by Claire Valva on May 13, 2019, with update and cleanup on June 24, 2019\n",
    "\n",
    "# Test ENSO simulations and plotting"
   ]
  },
  {
   "cell_type": "code",
   "execution_count": 1,
   "metadata": {
    "collapsed": true
   },
   "outputs": [],
   "source": [
    "# import packages\n",
    "import numpy as np\n",
    "from scipy.fftpack import fft, ifft, fftfreq, fftshift, ifftshift\n",
    "import scipy.integrate as sciint\n",
    "import pandas as pd\n",
    "from math import pi\n",
    "from sympy import solve, Poly, Eq, Function, exp, re, im\n",
    "from scipy.optimize import fsolve\n",
    "from decimal import Decimal\n",
    "import pickle\n",
    "import time\n",
    "import random\n",
    "import multiprocessing as mp\n",
    "from joblib import Parallel, delayed\n",
    "\n",
    "import numpy as np\n",
    "from scipy.signal import get_window, csd\n",
    "from scipy.signal.windows import hann, hanning, nuttall, flattop\n",
    "from scipy.fftpack import fft, ifft, fftfreq, fftshift, ifftshift\n",
    "#import matplotlib\n",
    "#matplotlib.use('Agg')\n",
    "import matplotlib.pyplot as plt\n",
    "import scipy.integrate as sciint\n",
    "import pandas as pd\n",
    "import datetime\n",
    "import matplotlib.cm as cm\n",
    "from math import pi\n",
    "import matplotlib.ticker as tck\n",
    "import datetime\n",
    "from sympy import solve, Poly, Eq, Function, exp, re, im\n",
    "from netCDF4 import Dataset, num2date # This is to read .nc files and time array\n",
    "from scipy.optimize import fsolve\n",
    "from decimal import Decimal\n",
    "import pickle\n",
    "import multiprocessing as mp\n",
    "from joblib import Parallel, delayed\n",
    "import matplotlib.colors as colors\n",
    "from seaborn import cubehelix_palette #for contour plot colors\n",
    "import seaborn as sns\n",
    "from decimal import Decimal\n",
    "import numpy.ma as ma\n",
    "import random\n",
    "\n",
    "#flatten season for plotting\n",
    "flatten = lambda l: [item for sublist in l for item in sublist]"
   ]
  },
  {
   "cell_type": "code",
   "execution_count": 2,
   "metadata": {
    "collapsed": true
   },
   "outputs": [],
   "source": [
    "import scipy.stats as spyst"
   ]
  },
  {
   "cell_type": "code",
   "execution_count": 14,
   "metadata": {
    "collapsed": true
   },
   "outputs": [],
   "source": [
    "from os import walk\n",
    "\n",
    "oldf = []\n",
    "for (dirpath, dirnames, filenames) in walk('/scratch/midway2/clairev/enso_spectra/'):\n",
    "    oldf.extend(filenames)\n",
    "    break\n",
    "\n",
    "f = []\n",
    "for named in oldf:\n",
    "    if named[0:15] == \"spectra_enso_02\":\n",
    "        f.append(named)"
   ]
  },
  {
   "cell_type": "code",
   "execution_count": null,
   "metadata": {
    "collapsed": true
   },
   "outputs": [],
   "source": []
  },
  {
   "cell_type": "code",
   "execution_count": 15,
   "metadata": {
    "collapsed": true
   },
   "outputs": [],
   "source": [
    "def solve_f(X, Zofkt):\n",
    "    # function to solve f coeff equation for trend analysis\n",
    "    x,y = X\n",
    "    f = Zofkt - x*np.exp(1j*y)\n",
    "    return [np.real(f), np.imag(f)] \n",
    "\n",
    "def real_f(X,Zofkt):\n",
    "    # function to wrap solve_f so that it can be used with fsolve\n",
    "    x,y = X\n",
    "    z = [x+0j,y+0j]\n",
    "    actual_f = solve_f(z, Zofkt)\n",
    "    return(actual_f)\n",
    "\n",
    "def fwithZ(entry):\n",
    "    answers = fsolve(real_f, np.array([0,0]), args = entry)\n",
    "    return answers\n",
    "\n",
    "# get function to generate random coeffs\n",
    "def entry_fft(amp, phase = random.uniform(0, 2*pi)):\n",
    "    # takes amplitude and phase to give corresponding fourier coeff\n",
    "    entry = amp*np.exp(1j*phase)\n",
    "    return entry\n",
    "\n",
    "# write functions to make a longer ifft\n",
    "def ext_row(row, n):\n",
    "    ext_f = np.zeros(((len(row) - 1) * n + 1,), dtype=\"complex128\")\n",
    "    ext_f[::n] = row * n\n",
    "    \n",
    "    return ext_f\n",
    "\n",
    "def ext_ifft_new(n, input_array):\n",
    "    # add the zeros onto each end\n",
    "    ext_f = [ext_row(entry,n) for entry in input_array]\n",
    "    \n",
    "    # make up for the formulat multiplying for array length\n",
    "    olddim = len(input_array[5])\n",
    "    newdim = len(ext_f[0])\n",
    "    mult = newdim/olddim\n",
    "    \n",
    "    ext_f = np.multiply(ext_f, mult)\n",
    "    adjusted_tested = np.fft.ifft2(ext_f)\n",
    "    \n",
    "    return adjusted_tested"
   ]
  },
  {
   "cell_type": "code",
   "execution_count": 16,
   "metadata": {
    "collapsed": false
   },
   "outputs": [],
   "source": [
    "season_titles = [\"Winter\", \"Spring\", \"Summer\", \"Fall\"]\n",
    "seasons = [\"winter\", \"spring\", \"summer\", \"fall\"]\n",
    "\n",
    "# flatten season for plotting\n",
    "flatten = lambda l: [item for sublist in l for item in sublist]\n",
    "named = f[0]"
   ]
  },
  {
   "cell_type": "code",
   "execution_count": 17,
   "metadata": {
    "collapsed": false
   },
   "outputs": [],
   "source": [
    "#file_name = \"/scratch/midway2/clairev/enso_spectra/averaged/01_enso_avg_\" + str(named[16:21])\n",
    "#file_pickle = open(file_name, \"rb\")\n",
    "#d2_touse, d2_seasons, d2_averages = pickle.load(file_pickle)"
   ]
  },
  {
   "cell_type": "code",
   "execution_count": 18,
   "metadata": {
    "collapsed": false
   },
   "outputs": [
    {
     "data": {
      "text/plain": [
       "['ninowinter',\n",
       " 'ninawinter',\n",
       " 'neutralwinter',\n",
       " 'ninospring',\n",
       " 'ninaspring',\n",
       " 'neutralspring',\n",
       " 'ninosummer',\n",
       " 'ninasummer',\n",
       " 'neutralsummer',\n",
       " 'ninofall',\n",
       " 'ninafall',\n",
       " 'neutralfall']"
      ]
     },
     "execution_count": 18,
     "metadata": {},
     "output_type": "execute_result"
    }
   ],
   "source": [
    "ens = [\"nino\", \"nina\", \"neutral\"]\n",
    "d2_names = [enso + \" \" + part for part in seasons for enso in ens]\n",
    "d2_names"
   ]
  },
  {
   "cell_type": "code",
   "execution_count": 7,
   "metadata": {
    "collapsed": false
   },
   "outputs": [
    {
     "data": {
      "text/plain": [
       "'36.0N'"
      ]
     },
     "execution_count": 7,
     "metadata": {},
     "output_type": "execute_result"
    }
   ],
   "source": [
    "name = \"01_enso_36.0N424\"\n",
    "name[8:13]"
   ]
  },
  {
   "cell_type": "code",
   "execution_count": 19,
   "metadata": {
    "collapsed": false
   },
   "outputs": [],
   "source": [
    "file_name = \"/scratch/midway2/clairev/enso_sims/01_enso_36.0N424\"\n",
    "file_pickle = open(file_name, \"rb\")\n",
    "pickled = pickle.load(file_pickle)"
   ]
  },
  {
   "cell_type": "code",
   "execution_count": 20,
   "metadata": {
    "collapsed": true
   },
   "outputs": [],
   "source": [
    "flat_sims = [flatten(entry[0]) for entry in pickled]"
   ]
  },
  {
   "cell_type": "code",
   "execution_count": 1,
   "metadata": {
    "collapsed": false
   },
   "outputs": [],
   "source": [
    "#make lists of el nino/regular/la nina years\n",
    "nino = [1980,1983,1987,1988,1992,\n",
    "        1995,1998,2003,2007,2010]\n",
    "neutral = [1979,1981,1982,1984,1985,1986,1990,\n",
    "           1991,1993,1994,1996,1997,2001,2002,\n",
    "           2004,2005,2006,2009,2013,2014,2015,2016]\n",
    "nina = [1989,1999,2000,2008,2011,2012]"
   ]
  },
  {
   "cell_type": "code",
   "execution_count": 16,
   "metadata": {
    "collapsed": true
   },
   "outputs": [],
   "source": [
    "len_all = 38.0\n",
    "nina_per = len(nina)/len_all\n",
    "nino_per = len(nino)/len_all\n",
    "neutral_per = len(neutral)/len_all\n",
    "all_pers = [nina_per, nino_per, neutral_per]"
   ]
  },
  {
   "cell_type": "code",
   "execution_count": 18,
   "metadata": {
    "collapsed": false
   },
   "outputs": [
    {
     "data": {
      "text/plain": [
       "[0.15789473684210525, 0.2631578947368421, 0.5789473684210527]"
      ]
     },
     "execution_count": 18,
     "metadata": {},
     "output_type": "execute_result"
    }
   ],
   "source": [
    "all_pers"
   ]
  },
  {
   "cell_type": "code",
   "execution_count": 22,
   "metadata": {
    "collapsed": false
   },
   "outputs": [
    {
     "data": {
      "text/plain": [
       "<Figure size 432x288 with 0 Axes>"
      ]
     },
     "metadata": {},
     "output_type": "display_data"
    },
    {
     "data": {
      "image/png": "[encoded data removed]",
      "text/plain": [
       "<Figure size 1080x360 with 1 Axes>"
      ]
     },
     "metadata": {},
     "output_type": "display_data"
    },
    {
     "data": {
      "text/plain": [
       "<Figure size 432x288 with 0 Axes>"
      ]
     },
     "metadata": {},
     "output_type": "display_data"
    },
    {
     "data": {
      "image/png": "[encoded data removed]",
      "text/plain": [
       "<Figure size 1080x360 with 1 Axes>"
      ]
     },
     "metadata": {},
     "output_type": "display_data"
    },
    {
     "data": {
      "text/plain": [
       "<Figure size 432x288 with 0 Axes>"
      ]
     },
     "metadata": {},
     "output_type": "display_data"
    },
    {
     "data": {
      "image/png": "[encoded data removed]",
      "text/plain": [
       "<Figure size 1080x360 with 1 Axes>"
      ]
     },
     "metadata": {},
     "output_type": "display_data"
    },
    {
     "data": {
      "text/plain": [
       "<Figure size 432x288 with 0 Axes>"
      ]
     },
     "metadata": {},
     "output_type": "display_data"
    },
    {
     "data": {
      "image/png": "[encoded data removed]",
      "text/plain": [
       "<Figure size 1080x360 with 1 Axes>"
      ]
     },
     "metadata": {},
     "output_type": "display_data"
    }
   ],
   "source": [
    "# now plot them\n",
    "# weight them by years percentrage when plotting together\n",
    "for j in range(4):\n",
    "    plt.clf();\n",
    "    plt.figure(figsize=(15, 5));\n",
    "        \n",
    "    for k in range(3):\n",
    "        #print(\"hi\")\n",
    "        plt.hist(x = np.real(flat_sims[j*3 + k]), bins = 100, density = True, alpha = 0.5, label = d2_names[j*3 + k])\n",
    "    plt.ylabel(\"density\")\n",
    "    plt.legend()\n",
    "    plt.xlabel(\"geopotential height\")\n",
    "    \n",
    "    \n",
    "    plt.show()"
   ]
  },
  {
   "cell_type": "code",
   "execution_count": null,
   "metadata": {
    "collapsed": false
   },
   "outputs": [],
   "source": [
    "# sort them into each season\n",
    "    phase_all = [[[[fwithZ(entry) for entry in sublist] \n",
    "                    for sublist in year] \n",
    "                  for year in season] \n",
    "                 for season in d2_seasons]\n",
    "\n",
    "\n",
    "    # sort them into each season\n",
    "    amps_all = [[[[entry[0] for entry in sublist] \n",
    "                  for sublist in year] \n",
    "                 for year in season] \n",
    "                for season in phase_all]\n",
    "    \n",
    "    ps_all = [[[[entry[1] % (2 * np.pi) for entry in sublist] \n",
    "                  for sublist in year] \n",
    "                 for year in season] \n",
    "                for season in phase_all]\n",
    "\n",
    "    # adjust for winter averaging\n",
    "    # TO DO: come up with better procedure rather \n",
    "    # current: chopping off edges to make the same length for averaging\n",
    "    norml = 359\n",
    "    longl = 364\n",
    "\n",
    "    def padded(to_pad, index):\n",
    "        length = len(to_pad)\n",
    "        if index == 0:\n",
    "            zeros = longl - length\n",
    "            to_pad = list(to_pad)\n",
    "            for i in range(zeros):\n",
    "                to_pad.append(0)\n",
    "            return to_pad\n",
    "        else:\n",
    "            return to_pad\n",
    "\n",
    "    #pad rows with zeros to account for leap year\n",
    "    season_amps_adj = [[[padded(row, 0)  \n",
    "                         for row in entry] \n",
    "                        for entry in amps_all[i]] \n",
    "                       for i in range(len(amps_all))]\n",
    "    \n",
    "    #pad rows with zeros to account for leap year\n",
    "    season_phase_adj = [[[padded(row, 0)  \n",
    "                         for row in entry] \n",
    "                        for entry in ps_all[i]] \n",
    "                       for i in range(len(ps_all))]\n",
    "\n",
    "    #get average amplitude for each season\n",
    "    avg_amps = [np.average(season, axis = 0) \n",
    "                for season in season_amps_adj]\n",
    "\n",
    "    #get std amplitude for each season\n",
    "    std_amps = [np.std(season, axis = 0) \n",
    "                for season in season_amps_adj]\n",
    "    \n",
    "    #get average phases for each season\n",
    "    avg_phase = [spyst.circmean(season, axis = 0) \n",
    "                for season in season_phase_adj]\n",
    "\n",
    "    #get std phases for each season\n",
    "    std_phase = [spyst.circstd(season, axis = 0) \n",
    "                for season in season_phase_adj]\n",
    "    \n",
    "    import pickle\n",
    "        \n",
    "    \n",
    "    file_name2 = \"/scratch/midway2/clairev/enso_spectra/averaged/01_enso_avg_\" + str(named[16:21])\n",
    "    file_pickle = open(file_name2,'wb') \n",
    "    pickle.dump([avg_amps,std_amps,avg_phase,std_phase],file_pickle)\n",
    "    file_pickle.close()\n",
    "    \n",
    "        \n",
    "\n",
    "\n",
    "\n",
    "    "
   ]
  },
  {
   "cell_type": "code",
   "execution_count": null,
   "metadata": {
    "collapsed": true
   },
   "outputs": [],
   "source": [
    "# get function to generate random coeffs\n",
    "    def entry_fft(amp,std, phase, stdphase):\n",
    "        # takes amplitude and phase to give corresponding fourier coeff\n",
    "        amp_new = np.random.normal(loc = amp, scale = std)\n",
    "        phase_new = np.random.normal(loc = phase, scale = stdphase)\n",
    "        entry = amp_new*np.exp(1j*phase_new)\n",
    "        return entry\n",
    "\n",
    "    # write functions to make a longer ifft\n",
    "    def ext_row(row, n):\n",
    "        ext_f = np.zeros(((len(row) - 1) * n + 1,), dtype=\"complex128\")\n",
    "        ext_f[::n] = row * n\n",
    "    \n",
    "        return ext_f\n",
    "\n",
    "    def ext_ifft_new(n, input_array):\n",
    "    # add the zeros onto each end\n",
    "        ext_f = [ext_row(entry,n) for entry in input_array]\n",
    "    \n",
    "        # make up for the formulat multiplying for array length\n",
    "        olddim = len(input_array[5])\n",
    "        newdim = len(ext_f[0])\n",
    "        mult = newdim/olddim\n",
    "    \n",
    "        # ext_f = np.multiply(mult, ext_f)\n",
    "        adjusted_tested = np.fft.ifft2(ext_f)\n",
    "    \n",
    "        return adjusted_tested\n",
    "\n",
    "\n",
    "\n",
    "    def combined(amps,stds,phases,stdphases, length):\n",
    "    # combines generation of random phase with inverse transform\n",
    "        newarray = [[entry_fft(amp = amps[wave][timed],\n",
    "                               std = stds[wave][timed], \n",
    "                               phase = phases[wave][timed], stdphase = stdphases[wave][timed]) \n",
    "                     for timed in range(len(amps[wave]))]\n",
    "                    for wave in range(len(amps))]\n",
    "    \n",
    "        newarray = [np.array(leaf) for leaf in newarray]\n",
    "        iffted = ext_ifft_new(length, newarray)\n",
    "        \n",
    "        return iffted\n",
    "\n",
    "    def repeater(season, stds, phases,stdphases, length, times):\n",
    "        # repeats the phase creation and inverse transform\n",
    "        newarray = [combined(season, stds, phases,stdphases,length) for leaf in range(times)] \n",
    "        return(newarray)\n",
    "\n",
    "\n",
    "\n",
    "\n",
    "    # set lims\n",
    "    runlen = 75\n",
    "    runtimes = 1\n",
    "    repeattimes = 20\n",
    "\n",
    "    listed_parts = []\n",
    "\n",
    "\n",
    "    def repeater_2(amps,stds, phases,stdphases, length, times):\n",
    "        #do procedure\n",
    "        repeated_comp = [repeater(amps[i],stds[i], phases[i], stdphases[i], length, times)\n",
    "                     for i in range(len(amps))]\n",
    "    \n",
    "    #output.put(repeated_comp)\n",
    "    \n",
    "    \n",
    "    #listed_parts.append(repeated_comp)\n",
    "    \n",
    "        import pickle\n",
    "        \n",
    "    \n",
    "        file_name2 = \"/scratch/midway2/clairev/enso_sims/01_enso_\" + str(named[16:21]) + str(random.randint(1,1000))\n",
    "        file_pickle = open(file_name2,'wb') \n",
    "        pickle.dump(repeated_comp,file_pickle)\n",
    "        file_pickle.close()\n",
    "    \n",
    "        return repeated_comp\n",
    "\n",
    "    toplot = repeater_2(avg_amps,std_amps, runlen, runtimes)"
   ]
  }
 ],
 "metadata": {
  "kernelspec": {
   "display_name": "Python 2",
   "language": "python",
   "name": "python2"
  },
  "language_info": {
   "codemirror_mode": {
    "name": "ipython",
    "version": 2
   },
   "file_extension": ".py",
   "mimetype": "text/x-python",
   "name": "python",
   "nbconvert_exporter": "python",
   "pygments_lexer": "ipython2",
   "version": "2.7.12"
  }
 },
 "nbformat": 4,
 "nbformat_minor": 2
}
